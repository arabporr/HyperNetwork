{
  "cells": [
    {
      "cell_type": "markdown",
      "metadata": {
        "id": "yHY1zCXXaQsU"
      },
      "source": [
        "# Environment Setup"
      ]
    },
    {
      "cell_type": "code",
      "execution_count": 1,
      "metadata": {
        "id": "PvLPRG7MHkfO"
      },
      "outputs": [
        {
          "name": "stderr",
          "output_type": "stream",
          "text": [
            "2023-12-22 14:29:55.054181: E external/local_xla/xla/stream_executor/cuda/cuda_dnn.cc:9261] Unable to register cuDNN factory: Attempting to register factory for plugin cuDNN when one has already been registered\n",
            "2023-12-22 14:29:55.054244: E external/local_xla/xla/stream_executor/cuda/cuda_fft.cc:607] Unable to register cuFFT factory: Attempting to register factory for plugin cuFFT when one has already been registered\n",
            "2023-12-22 14:29:55.055526: E external/local_xla/xla/stream_executor/cuda/cuda_blas.cc:1515] Unable to register cuBLAS factory: Attempting to register factory for plugin cuBLAS when one has already been registered\n",
            "2023-12-22 14:29:55.068572: I tensorflow/core/platform/cpu_feature_guard.cc:182] This TensorFlow binary is optimized to use available CPU instructions in performance-critical operations.\n",
            "To enable the following instructions: AVX2 FMA, in other operations, rebuild TensorFlow with the appropriate compiler flags.\n",
            "2023-12-22 14:29:58.458759: W tensorflow/compiler/tf2tensorrt/utils/py_utils.cc:38] TF-TRT Warning: Could not find TensorRT\n"
          ]
        },
        {
          "name": "stdout",
          "output_type": "stream",
          "text": [
            "Using device ->  cpu\n"
          ]
        }
      ],
      "source": [
        "## Standard libraries\n",
        "import os\n",
        "import time\n",
        "import json\n",
        "import math\n",
        "import numpy as np\n",
        "import scipy\n",
        "from scipy.linalg import fractional_matrix_power as frac_mat_pow\n",
        "\n",
        "## Imports for plotting\n",
        "import matplotlib.pyplot as plt\n",
        "%matplotlib inline\n",
        "import seaborn as sns\n",
        "sns.set()\n",
        "\n",
        "## Progress bar\n",
        "from tqdm.notebook import tqdm\n",
        "\n",
        "## PyTorch\n",
        "import torch\n",
        "import torch.nn as nn\n",
        "import torch.nn.functional as F\n",
        "import torch.utils.data as data\n",
        "import torch.optim as optim\n",
        "from torch.utils.tensorboard import SummaryWriter\n",
        "%load_ext tensorboard\n",
        "\n",
        "import projection\n",
        "device = projection.setup_gpu()"
      ]
    },
    {
      "cell_type": "markdown",
      "metadata": {
        "id": "4gqO6uUXk8Gp"
      },
      "source": [
        "## Data Loading"
      ]
    },
    {
      "cell_type": "code",
      "execution_count": 2,
      "metadata": {
        "id": "4dO3j0Bfk_He"
      },
      "outputs": [],
      "source": [
        "problem_instance = torch.load(\"problem.pt\")\n",
        "\n",
        "N = problem_instance.N\n",
        "T = problem_instance.T \n",
        "d = problem_instance.d\n",
        "Mu = problem_instance.mu\n",
        "Varsigma = problem_instance.varsigma \n",
        "Sigma = problem_instance.Sigma \n",
        "Lambda = problem_instance.Lambda \n",
        "memory = problem_instance.memory\n",
        "X = problem_instance.X\n",
        "Drift = problem_instance.Drift\n",
        "Diffusion = problem_instance.Diffusion\n",
        "Z = problem_instance.input_output_pairs"
      ]
    },
    {
      "cell_type": "markdown",
      "metadata": {
        "id": "PhmRMVvALnS9"
      },
      "source": [
        "## Dataset creation for each model"
      ]
    },
    {
      "cell_type": "code",
      "execution_count": 3,
      "metadata": {
        "id": "dSD6F1JLsDp0"
      },
      "outputs": [],
      "source": [
        "class CNN_Dataset(data.Dataset):\n",
        "    def __init__(self, X, Y):\n",
        "        super().__init__()\n",
        "        self.generate_dataset(X, Y)\n",
        "\n",
        "    def generate_dataset(self, X, Y):\n",
        "        self.data = X\n",
        "        self.size = len(self.data)\n",
        "        labels = []\n",
        "        for index in range(self.size):\n",
        "            label = []\n",
        "            label.extend(Y[0][index])\n",
        "            matrix_upper_values = []\n",
        "            for row in range(len(Y[1][index])):\n",
        "                matrix_upper_values.extend(Y[1][index][row][row:])\n",
        "            label.extend(matrix_upper_values)\n",
        "            label = np.array(label)\n",
        "            labels.append(label)\n",
        "        self.label = torch.from_numpy(np.array(labels)).type(torch.FloatTensor)\n",
        "\n",
        "    def __len__(self):\n",
        "        return self.size\n",
        "\n",
        "    def __getitem__(self, index):\n",
        "        data_point = self.data[index]\n",
        "        data_label = self.label[index]\n",
        "        return data_point, data_label"
      ]
    },
    {
      "cell_type": "code",
      "execution_count": 4,
      "metadata": {
        "colab": {
          "base_uri": "https://localhost:8080/",
          "height": 491
        },
        "id": "NhWiIem4sDiU",
        "outputId": "d63f4fdd-4050-49b7-a104-dd96a0193e4d"
      },
      "outputs": [],
      "source": [
        "CNNs_datasets = []\n",
        "for index in range(1,T+1):\n",
        "    dataset_index = CNN_Dataset(Z[index][0], Z[index][1])\n",
        "    CNNs_datasets.append(dataset_index)"
      ]
    },
    {
      "cell_type": "code",
      "execution_count": 5,
      "metadata": {
        "id": "TBOogrcCZfbR"
      },
      "outputs": [],
      "source": [
        "# # TESTING\n",
        "# dataset = CNNs_datasets[1]\n",
        "\n",
        "# print(\"Size of dataset:\", len(dataset))\n",
        "# print(\"Dataset : \", [dataset[i] for i in range(len(dataset))])\n",
        "# print(dataset[0])"
      ]
    },
    {
      "cell_type": "code",
      "execution_count": 6,
      "metadata": {
        "id": "-s_SXIZrY7oE"
      },
      "outputs": [],
      "source": [
        "# # TESTING\n",
        "# data_loader = data.DataLoader(dataset, batch_size=1, shuffle=False, drop_last=True)\n",
        "\n",
        "# for batch in data_loader:\n",
        "#     data_inputs, data_labels = next(iter(data_loader))\n",
        "#     print(\"Data inputs\", data_inputs.shape, \"\\n\", data_inputs)\n",
        "#     print(\"Data labels\", data_labels.shape, \"\\n\", data_labels)"
      ]
    },
    {
      "cell_type": "code",
      "execution_count": null,
      "metadata": {
        "id": "yq5HfZLfxMwy"
      },
      "outputs": [],
      "source": []
    },
    {
      "cell_type": "markdown",
      "metadata": {
        "id": "6s0-6u2tZp6Z"
      },
      "source": [
        "## Convolutional Network Architecture"
      ]
    },
    {
      "cell_type": "markdown",
      "metadata": {
        "id": "OdewTR70sp7G"
      },
      "source": [
        "### CNN Model Architecture Definition"
      ]
    },
    {
      "cell_type": "code",
      "execution_count": 7,
      "metadata": {
        "id": "R7s6bs1iB7m6"
      },
      "outputs": [],
      "source": [
        "class Exp_layer(nn.Module):\n",
        "    def __init__(self):\n",
        "        super(Exp_layer, self).__init__()\n",
        "\n",
        "    def forward(self, input_data: torch.tensor):\n",
        "        inp = input_data[0] # 1 x d(d+1)/2\n",
        "        inp = inp[d:]\n",
        "        inp = inp.to(device)\n",
        "        temp = torch.zeros(d,d)\n",
        "        temp = temp.to(device)\n",
        "\n",
        "        indices = torch.triu_indices(d, d)\n",
        "        indices.to(device)\n",
        "\n",
        "        temp[indices[0], indices[1]] = inp\n",
        "        matrix = torch.linalg.matrix_exp(temp)\n",
        "\n",
        "        result = input_data\n",
        "        result[0][d:] = matrix[indices[0], indices[1]]\n",
        "\n",
        "        return (result)"
      ]
    },
    {
      "cell_type": "code",
      "execution_count": 8,
      "metadata": {
        "id": "iBAMzIfIw10j"
      },
      "outputs": [],
      "source": [
        "class MainNetwork(nn.Module):\n",
        "\n",
        "    def __init__(self, input_size):\n",
        "\n",
        "        super().__init__()\n",
        "\n",
        "        # Create the network based on the specified hidden layers\n",
        "        layers = []\n",
        "\n",
        "        layers += [nn.Linear(input_size,out_features=input_size*1000)] # Fully Connected layer\n",
        "\n",
        "        # layers += [nn.Conv1d(in_channels=1, out_channels=1, kernel_size=3, padding='same', padding_mode='replicate')]\n",
        "        layers += [nn.ReLU()]\n",
        "\n",
        "        layers += [nn.Conv1d(in_channels=1, out_channels=1, kernel_size=3, padding='same', padding_mode='replicate')]\n",
        "        layers += [nn.ReLU()]\n",
        "\n",
        "        # layers += [nn.Conv1d(in_channels=1, out_channels=1, kernel_size=3, padding='same', padding_mode='replicate')]\n",
        "        # layers += [nn.ReLU()]\n",
        "\n",
        "        layers += [nn.Linear(in_features=input_size*1000, out_features= (d)+(d*(d+1)//2))] # Fully Connected layer\n",
        "\n",
        "        layers += [Exp_layer()]\n",
        "\n",
        "        self.layers = nn.Sequential(*layers)\n",
        "\n",
        "\n",
        "    def forward(self, input_data):\n",
        "        result = self.layers(input_data)\n",
        "        return result"
      ]
    },
    {
      "cell_type": "code",
      "execution_count": 9,
      "metadata": {
        "id": "xvUcysx8uCPe"
      },
      "outputs": [],
      "source": [
        "# # TESTING\n",
        "# # Printing model architecture\n",
        "\n",
        "# MainNetwork_Model = MainNetwork(d*2)\n",
        "# print(\"==== Hyper Network Details ====\\n\",MainNetwork_Model,\"\\n\")\n",
        "\n",
        "# for name, param in MainNetwork_Model.named_parameters():\n",
        "#     print(f\"Parameter {name}, shape {param.shape}\")\n",
        "\n",
        "# num_parameters = sum(p.numel() for p in MainNetwork_Model.parameters())\n",
        "# print(\"\\n Number of parameters = \", num_parameters, \"\\n\")"
      ]
    },
    {
      "cell_type": "markdown",
      "metadata": {
        "id": "ztPRXf1zduCC"
      },
      "source": [
        "### Model Training and Evaluation Functions"
      ]
    },
    {
      "cell_type": "code",
      "execution_count": 10,
      "metadata": {
        "id": "fLDMsgyMR8Sf"
      },
      "outputs": [],
      "source": [
        "class CustomLoss(nn.Module):\n",
        "    def __init__(self):\n",
        "        super(CustomLoss, self).__init__()\n",
        "\n",
        "    def forward(self, predictions, targets):\n",
        "        preds = predictions[0] # 1 x d(d+1)/2\n",
        "        mu_pred = preds[:d]\n",
        "        cov_pred = preds[d:]\n",
        "        cov_pred = cov_pred.to(device)\n",
        "        temp = torch.zeros(d,d)\n",
        "        temp = temp.to(device)\n",
        "        indices = torch.triu_indices(d, d)\n",
        "        indices.to(device)\n",
        "        temp[indices[0], indices[1]] = cov_pred\n",
        "        cov_pred = temp\n",
        "\n",
        "        trgt = targets[0] # 1 x d(d+1)/2\n",
        "        mu_trgt = trgt[:d]\n",
        "        cov_trgt = trgt[d:]\n",
        "        cov_trgt = cov_trgt.to(device)\n",
        "        temp = torch.zeros(d,d)\n",
        "        temp = temp.to(device)\n",
        "        indices = torch.triu_indices(d, d)\n",
        "        indices.to(device)\n",
        "        temp[indices[0], indices[1]] = cov_trgt\n",
        "        cov_trgt = temp\n",
        "\n",
        "        loss = 0.0\n",
        "        # Mean Component\n",
        "        loss += torch.mean(torch.pow(mu_pred-mu_trgt,2))\n",
        "        # Covariant Component\n",
        "        A = torch.matmul(torch.linalg.pinv(cov_pred), cov_trgt)\n",
        "        A_eigen = torch.linalg.eig(A).eigenvalues\n",
        "        A_eigen = torch.real(A_eigen)\n",
        "        A_eigen = torch.log(A_eigen)**2\n",
        "        A_eigen = torch.mean(A_eigen)\n",
        "        loss += A_eigen/2\n",
        "\n",
        "        return loss.mean()"
      ]
    },
    {
      "cell_type": "code",
      "execution_count": 11,
      "metadata": {
        "id": "SP2wf90jsj0c"
      },
      "outputs": [],
      "source": [
        "def CNN_train_model_with_logger(model, optimizer, data_loader, loss_module, model_index, num_epochs):\n",
        "    # Create TensorBoard logger\n",
        "    logging_dir='logger/CNN_'+str(model_index)\n",
        "    writer = SummaryWriter(logging_dir)\n",
        "    model_plotted = False\n",
        "    # Set model to train mode\n",
        "    model.train()\n",
        "    # Training loop\n",
        "    for epoch in tqdm(range(num_epochs)):\n",
        "        epoch_loss = 0.0\n",
        "        for data_inputs, data_labels in data_loader:\n",
        "\n",
        "            ## Step 1: Move input data to device (only strictly necessary if we use GPU)\n",
        "            data_inputs = data_inputs.to(device)\n",
        "            data_labels = data_labels.to(device)\n",
        "\n",
        "            # For the very first batch, we visualize the computation graph in TensorBoard\n",
        "            if not model_plotted:\n",
        "                writer.add_graph(model, data_inputs)\n",
        "                model_plotted = True\n",
        "\n",
        "            ## Step 2: Run the model on the input data\n",
        "            preds = model(data_inputs)\n",
        "            preds = preds.squeeze(dim=1) # Output is [Batch size, 1], but we want [Batch size]\n",
        "\n",
        "            ## Step 3: Calculate the loss\n",
        "            loss = loss_module(preds, data_labels.float())\n",
        "\n",
        "            ## Step 4: Perform backpropagation\n",
        "            # Before calculating the gradients, we need to ensure that they are all zero.\n",
        "            # The gradients would not be overwritten, but actually added to the existing ones.\n",
        "            optimizer.zero_grad()\n",
        "            # Perform backpropagation\n",
        "            loss.backward()\n",
        "\n",
        "            ## Step 5: Update the parameters\n",
        "            optimizer.step()\n",
        "\n",
        "            ## Step 6: Take the running average of the loss\n",
        "            epoch_loss += loss.item()\n",
        "\n",
        "        # Add average loss to TensorBoard\n",
        "        epoch_loss /= len(data_loader)\n",
        "        writer.add_scalar('training_loss',\n",
        "                          epoch_loss,\n",
        "                          global_step = epoch + 1)\n",
        "    writer.close()"
      ]
    },
    {
      "cell_type": "code",
      "execution_count": 12,
      "metadata": {
        "id": "aC7IqUKDVmGQ"
      },
      "outputs": [],
      "source": [
        "def CNN_train_model(model, optimizer, data_loader, loss_module, num_epochs):\n",
        "    # Set model to train mode\n",
        "    model.train()\n",
        "    # Training loop\n",
        "    for epoch in tqdm(range(num_epochs)):\n",
        "        for data_inputs, data_labels in data_loader:\n",
        "\n",
        "            ## Step 1: Move input data to device (only strictly necessary if we use GPU)\n",
        "            data_inputs = data_inputs.to(device)\n",
        "            data_labels = data_labels.to(device)\n",
        "\n",
        "            ## Step 2: Run the model on the input data\n",
        "            preds = model(data_inputs)\n",
        "            preds = preds.squeeze(dim=1) # Output is [Batch size, 1], but we want [Batch size]\n",
        "\n",
        "            ## Step 3: Calculate the loss\n",
        "            loss = loss_module(preds, data_labels.float())\n",
        "\n",
        "            ## Step 4: Perform backpropagation\n",
        "            # Before calculating the gradients, we need to ensure that they are all zero.\n",
        "            # The gradients would not be overwritten, but actually added to the existing ones.\n",
        "            optimizer.zero_grad()\n",
        "            # Perform backpropagation\n",
        "            loss.backward()\n",
        "\n",
        "            ## Step 5: Update the parameters\n",
        "            optimizer.step()\n"
      ]
    },
    {
      "cell_type": "code",
      "execution_count": 13,
      "metadata": {
        "id": "snCLtkpB3Cvl"
      },
      "outputs": [],
      "source": [
        "def CNN_eval_model(model, data_loader, loss_module, model_index):\n",
        "    # Create TensorBoard logger\n",
        "    logging_dir='logger/CNN_'+str(model_index)\n",
        "    writer = SummaryWriter(logging_dir)\n",
        "    model_plotted = False\n",
        "\n",
        "    # Set model to eval mode\n",
        "    model.eval()\n",
        "\n",
        "    data_index = 0\n",
        "    num_preds = 0\n",
        "    losses = []\n",
        "\n",
        "    with torch.no_grad(): # Deactivate gradients for the following code\n",
        "        for data_inputs, data_labels in data_loader:\n",
        "            data_inputs = data_inputs.to(device)\n",
        "            data_labels = data_labels.to(device)\n",
        "\n",
        "            preds = model(data_inputs)\n",
        "            preds = preds.squeeze(dim=1)\n",
        "            loss = loss_module(preds, data_labels.float())\n",
        "            losses.append(loss)\n",
        "\n",
        "            num_preds += data_labels.shape[0]\n",
        "            data_index += 1\n",
        "            writer.add_scalar('eval_loss', loss, global_step = data_index)\n",
        "\n",
        "    writer.close()\n",
        "    Average_loss = sum(losses) / num_preds\n",
        "    print(\"---- EVAL RESULTS ----\\n\",\"Average loss : \", Average_loss)"
      ]
    },
    {
      "cell_type": "code",
      "execution_count": 14,
      "metadata": {
        "id": "RzeHhtItKPrz"
      },
      "outputs": [],
      "source": [
        "def CNN_predict(model, data):\n",
        "    model.eval() # Set model to eval mode\n",
        "    with torch.no_grad(): # Deactivate gradients for the following code\n",
        "        data = data.to(device)\n",
        "        preds = model(data)\n",
        "        preds = preds.squeeze(dim=1)\n",
        "    return preds"
      ]
    },
    {
      "cell_type": "markdown",
      "metadata": {
        "id": "Qj9fTBFneBbe"
      },
      "source": [
        "## Creating And Training The CNN Instances"
      ]
    },
    {
      "cell_type": "code",
      "execution_count": 15,
      "metadata": {
        "id": "X4kwJDwhe1g8"
      },
      "outputs": [],
      "source": [
        "def DataLoader_for_Model(model_index,  test_ratio=0.2, batch_size=1):\n",
        "    full_dataset = CNNs_datasets[model_index]\n",
        "    test_size = int(test_ratio * len(full_dataset))\n",
        "    train_size = len(full_dataset) - test_size\n",
        "    train_dataset, test_dataset = torch.utils.data.random_split(full_dataset, [train_size, test_size])\n",
        "    train_data_loader = data.DataLoader(train_dataset, batch_size=batch_size, shuffle=True, drop_last=True)\n",
        "    test_data_loader = data.DataLoader(test_dataset, batch_size=batch_size, shuffle=False, drop_last=False)\n",
        "    return train_data_loader, test_data_loader\n",
        "\n",
        "def Model_Maker():\n",
        "    model = MainNetwork(2*d)\n",
        "    model = model.to(device)\n",
        "    return model\n",
        "\n",
        "def Model_Trainer(model, train_data_loader, test_data_loader, model_index=0, with_logger=False, with_eval=False, num_epochs=100):\n",
        "    optimizer = torch.optim.Adam(model.parameters(), lr=0.001)\n",
        "    loss_module = nn.MSELoss()\n",
        "    if with_logger:\n",
        "        CNN_train_model_with_logger(model, optimizer, train_data_loader, loss_module, model_index, num_epochs)\n",
        "    else:\n",
        "        CNN_train_model(model, optimizer, train_data_loader, loss_module, num_epochs)\n",
        "    if with_eval:\n",
        "        CNN_eval_model(model, test_data_loader, loss_module, model_index)\n",
        "    return model\n",
        "\n",
        "def Model_Param_Extractor(model):\n",
        "    paramete_vectors_sizes = []\n",
        "    paramete_vectors_sizes_flatten = []\n",
        "    paramete_vectors_values = []\n",
        "\n",
        "    for param_tensor in model.state_dict():\n",
        "        paramete_vectors_sizes.append(model.state_dict()[param_tensor].shape)\n",
        "        paramete_vectors_sizes_flatten.append(torch.flatten(model.state_dict()[param_tensor]).shape[0])\n",
        "        paramete_vectors_values += (torch.flatten(model.state_dict()[param_tensor]).tolist())\n",
        "\n",
        "    model_params_and_info = [paramete_vectors_sizes, paramete_vectors_sizes_flatten, paramete_vectors_values]\n",
        "    return model_params_and_info\n",
        "\n",
        "def MainModel_Saver(model, model_index):\n",
        "    if not os.path.exists(\"CNN_Models/\"):\n",
        "        os.mkdir(\"CNN_Models/\")\n",
        "    PATH = \"./CNN_Models/CNN\"+str(model_index)+\".pt\"\n",
        "    torch.save(model.state_dict(), PATH)\n",
        "    return\n",
        "\n",
        "def MainModel_Loader(PATH):\n",
        "    model = torch.load(PATH)\n",
        "    model.eval()\n",
        "    return model"
      ]
    },
    {
      "cell_type": "code",
      "execution_count": 16,
      "metadata": {
        "colab": {
          "base_uri": "https://localhost:8080/",
          "height": 245,
          "referenced_widgets": [
            "949a8d5f42b54bd8b49e9b0059924810",
            "f7eabf29f1e742088d68a4f6c91a77c6",
            "25335ed8dd054ea3877dc546dddabdf5",
            "1c9d30afd93e42e2be5c4d4213c0b21d",
            "c3411d615d2347bd90f1b42bf160bac6",
            "e7a7b768d7de42fcb1be543e37771521",
            "e79bf3afffc84f6199990c6e9334fed8",
            "86a835b8a5614c6ba8206c217235b83b",
            "82db98c3ff964f0eab8b452df1bd9436",
            "3c64ba16c4b04779b66c6797789d03e0",
            "1ddccb91469c49518fe9f84802cf6f88"
          ]
        },
        "id": "8o_8-4ETePM4",
        "outputId": "cf158487-e7f1-4d80-aaf1-eb22ccb09c98"
      },
      "outputs": [
        {
          "name": "stdout",
          "output_type": "stream",
          "text": [
            "==================== \n",
            " Start working on CNN 1 out of  5\n",
            "---- Creating Datasets ----\n",
            "---- Creating model instance ----\n",
            "---- Training model instance ----\n"
          ]
        },
        {
          "name": "stderr",
          "output_type": "stream",
          "text": [
            "/home/codespace/.python/current/lib/python3.10/site-packages/tqdm/auto.py:21: TqdmWarning: IProgress not found. Please update jupyter and ipywidgets. See https://ipywidgets.readthedocs.io/en/stable/user_install.html\n",
            "  from .autonotebook import tqdm as notebook_tqdm\n"
          ]
        },
        {
          "ename": "ImportError",
          "evalue": "IProgress not found. Please update jupyter and ipywidgets. See https://ipywidgets.readthedocs.io/en/stable/user_install.html",
          "output_type": "error",
          "traceback": [
            "\u001b[0;31m---------------------------------------------------------------------------\u001b[0m",
            "\u001b[0;31mImportError\u001b[0m                               Traceback (most recent call last)",
            "Cell \u001b[0;32mIn[16], line 13\u001b[0m\n\u001b[1;32m     11\u001b[0m \u001b[38;5;28mprint\u001b[39m(\u001b[38;5;124m\"\u001b[39m\u001b[38;5;124m---- Training model instance ----\u001b[39m\u001b[38;5;124m\"\u001b[39m)\n\u001b[1;32m     12\u001b[0m \u001b[38;5;28;01mif\u001b[39;00m index \u001b[38;5;241m==\u001b[39m \u001b[38;5;241m0\u001b[39m:\n\u001b[0;32m---> 13\u001b[0m     \u001b[43mModel_Trainer\u001b[49m\u001b[43m(\u001b[49m\u001b[43mCNN_Model\u001b[49m\u001b[43m,\u001b[49m\u001b[43m \u001b[49m\u001b[43mCNN_train_data\u001b[49m\u001b[43m,\u001b[49m\u001b[43m \u001b[49m\u001b[43mCNN_test_data\u001b[49m\u001b[43m,\u001b[49m\u001b[43m \u001b[49m\u001b[43mindex\u001b[49m\u001b[43m,\u001b[49m\u001b[43m \u001b[49m\u001b[43mwith_logger\u001b[49m\u001b[38;5;241;43m=\u001b[39;49m\u001b[38;5;28;43;01mTrue\u001b[39;49;00m\u001b[43m,\u001b[49m\u001b[43m \u001b[49m\u001b[43mwith_eval\u001b[49m\u001b[38;5;241;43m=\u001b[39;49m\u001b[38;5;28;43;01mTrue\u001b[39;49;00m\u001b[43m,\u001b[49m\u001b[43m \u001b[49m\u001b[43mnum_epochs\u001b[49m\u001b[38;5;241;43m=\u001b[39;49m\u001b[38;5;241;43m20\u001b[39;49m\u001b[43m)\u001b[49m\n\u001b[1;32m     14\u001b[0m \u001b[38;5;28;01melse\u001b[39;00m:\n\u001b[1;32m     15\u001b[0m     Model_Trainer(CNN_Model, CNN_train_data, CNN_test_data, index, with_logger\u001b[38;5;241m=\u001b[39m\u001b[38;5;28;01mTrue\u001b[39;00m, with_eval\u001b[38;5;241m=\u001b[39m\u001b[38;5;28;01mTrue\u001b[39;00m, num_epochs\u001b[38;5;241m=\u001b[39m\u001b[38;5;241m5\u001b[39m)\n",
            "Cell \u001b[0;32mIn[15], line 19\u001b[0m, in \u001b[0;36mModel_Trainer\u001b[0;34m(model, train_data_loader, test_data_loader, model_index, with_logger, with_eval, num_epochs)\u001b[0m\n\u001b[1;32m     17\u001b[0m loss_module \u001b[38;5;241m=\u001b[39m nn\u001b[38;5;241m.\u001b[39mMSELoss()\n\u001b[1;32m     18\u001b[0m \u001b[38;5;28;01mif\u001b[39;00m with_logger:\n\u001b[0;32m---> 19\u001b[0m     \u001b[43mCNN_train_model_with_logger\u001b[49m\u001b[43m(\u001b[49m\u001b[43mmodel\u001b[49m\u001b[43m,\u001b[49m\u001b[43m \u001b[49m\u001b[43moptimizer\u001b[49m\u001b[43m,\u001b[49m\u001b[43m \u001b[49m\u001b[43mtrain_data_loader\u001b[49m\u001b[43m,\u001b[49m\u001b[43m \u001b[49m\u001b[43mloss_module\u001b[49m\u001b[43m,\u001b[49m\u001b[43m \u001b[49m\u001b[43mmodel_index\u001b[49m\u001b[43m,\u001b[49m\u001b[43m \u001b[49m\u001b[43mnum_epochs\u001b[49m\u001b[43m)\u001b[49m\n\u001b[1;32m     20\u001b[0m \u001b[38;5;28;01melse\u001b[39;00m:\n\u001b[1;32m     21\u001b[0m     CNN_train_model(model, optimizer, train_data_loader, loss_module, num_epochs)\n",
            "Cell \u001b[0;32mIn[11], line 9\u001b[0m, in \u001b[0;36mCNN_train_model_with_logger\u001b[0;34m(model, optimizer, data_loader, loss_module, model_index, num_epochs)\u001b[0m\n\u001b[1;32m      7\u001b[0m model\u001b[38;5;241m.\u001b[39mtrain()\n\u001b[1;32m      8\u001b[0m \u001b[38;5;66;03m# Training loop\u001b[39;00m\n\u001b[0;32m----> 9\u001b[0m \u001b[38;5;28;01mfor\u001b[39;00m epoch \u001b[38;5;129;01min\u001b[39;00m \u001b[43mtqdm\u001b[49m\u001b[43m(\u001b[49m\u001b[38;5;28;43mrange\u001b[39;49m\u001b[43m(\u001b[49m\u001b[43mnum_epochs\u001b[49m\u001b[43m)\u001b[49m\u001b[43m)\u001b[49m:\n\u001b[1;32m     10\u001b[0m     epoch_loss \u001b[38;5;241m=\u001b[39m \u001b[38;5;241m0.0\u001b[39m\n\u001b[1;32m     11\u001b[0m     \u001b[38;5;28;01mfor\u001b[39;00m data_inputs, data_labels \u001b[38;5;129;01min\u001b[39;00m data_loader:\n\u001b[1;32m     12\u001b[0m \n\u001b[1;32m     13\u001b[0m         \u001b[38;5;66;03m## Step 1: Move input data to device (only strictly necessary if we use GPU)\u001b[39;00m\n",
            "File \u001b[0;32m~/.python/current/lib/python3.10/site-packages/tqdm/notebook.py:233\u001b[0m, in \u001b[0;36mtqdm_notebook.__init__\u001b[0;34m(self, *args, **kwargs)\u001b[0m\n\u001b[1;32m    231\u001b[0m unit_scale \u001b[38;5;241m=\u001b[39m \u001b[38;5;241m1\u001b[39m \u001b[38;5;28;01mif\u001b[39;00m \u001b[38;5;28mself\u001b[39m\u001b[38;5;241m.\u001b[39munit_scale \u001b[38;5;129;01mis\u001b[39;00m \u001b[38;5;28;01mTrue\u001b[39;00m \u001b[38;5;28;01melse\u001b[39;00m \u001b[38;5;28mself\u001b[39m\u001b[38;5;241m.\u001b[39munit_scale \u001b[38;5;129;01mor\u001b[39;00m \u001b[38;5;241m1\u001b[39m\n\u001b[1;32m    232\u001b[0m total \u001b[38;5;241m=\u001b[39m \u001b[38;5;28mself\u001b[39m\u001b[38;5;241m.\u001b[39mtotal \u001b[38;5;241m*\u001b[39m unit_scale \u001b[38;5;28;01mif\u001b[39;00m \u001b[38;5;28mself\u001b[39m\u001b[38;5;241m.\u001b[39mtotal \u001b[38;5;28;01melse\u001b[39;00m \u001b[38;5;28mself\u001b[39m\u001b[38;5;241m.\u001b[39mtotal\n\u001b[0;32m--> 233\u001b[0m \u001b[38;5;28mself\u001b[39m\u001b[38;5;241m.\u001b[39mcontainer \u001b[38;5;241m=\u001b[39m \u001b[38;5;28;43mself\u001b[39;49m\u001b[38;5;241;43m.\u001b[39;49m\u001b[43mstatus_printer\u001b[49m\u001b[43m(\u001b[49m\u001b[38;5;28;43mself\u001b[39;49m\u001b[38;5;241;43m.\u001b[39;49m\u001b[43mfp\u001b[49m\u001b[43m,\u001b[49m\u001b[43m \u001b[49m\u001b[43mtotal\u001b[49m\u001b[43m,\u001b[49m\u001b[43m \u001b[49m\u001b[38;5;28;43mself\u001b[39;49m\u001b[38;5;241;43m.\u001b[39;49m\u001b[43mdesc\u001b[49m\u001b[43m,\u001b[49m\u001b[43m \u001b[49m\u001b[38;5;28;43mself\u001b[39;49m\u001b[38;5;241;43m.\u001b[39;49m\u001b[43mncols\u001b[49m\u001b[43m)\u001b[49m\n\u001b[1;32m    234\u001b[0m \u001b[38;5;28mself\u001b[39m\u001b[38;5;241m.\u001b[39mcontainer\u001b[38;5;241m.\u001b[39mpbar \u001b[38;5;241m=\u001b[39m proxy(\u001b[38;5;28mself\u001b[39m)\n\u001b[1;32m    235\u001b[0m \u001b[38;5;28mself\u001b[39m\u001b[38;5;241m.\u001b[39mdisplayed \u001b[38;5;241m=\u001b[39m \u001b[38;5;28;01mFalse\u001b[39;00m\n",
            "File \u001b[0;32m~/.python/current/lib/python3.10/site-packages/tqdm/notebook.py:108\u001b[0m, in \u001b[0;36mtqdm_notebook.status_printer\u001b[0;34m(_, total, desc, ncols)\u001b[0m\n\u001b[1;32m     99\u001b[0m \u001b[38;5;66;03m# Fallback to text bar if there's no total\u001b[39;00m\n\u001b[1;32m    100\u001b[0m \u001b[38;5;66;03m# DEPRECATED: replaced with an 'info' style bar\u001b[39;00m\n\u001b[1;32m    101\u001b[0m \u001b[38;5;66;03m# if not total:\u001b[39;00m\n\u001b[0;32m   (...)\u001b[0m\n\u001b[1;32m    105\u001b[0m \n\u001b[1;32m    106\u001b[0m \u001b[38;5;66;03m# Prepare IPython progress bar\u001b[39;00m\n\u001b[1;32m    107\u001b[0m \u001b[38;5;28;01mif\u001b[39;00m IProgress \u001b[38;5;129;01mis\u001b[39;00m \u001b[38;5;28;01mNone\u001b[39;00m:  \u001b[38;5;66;03m# #187 #451 #558 #872\u001b[39;00m\n\u001b[0;32m--> 108\u001b[0m     \u001b[38;5;28;01mraise\u001b[39;00m \u001b[38;5;167;01mImportError\u001b[39;00m(WARN_NOIPYW)\n\u001b[1;32m    109\u001b[0m \u001b[38;5;28;01mif\u001b[39;00m total:\n\u001b[1;32m    110\u001b[0m     pbar \u001b[38;5;241m=\u001b[39m IProgress(\u001b[38;5;28mmin\u001b[39m\u001b[38;5;241m=\u001b[39m\u001b[38;5;241m0\u001b[39m, \u001b[38;5;28mmax\u001b[39m\u001b[38;5;241m=\u001b[39mtotal)\n",
            "\u001b[0;31mImportError\u001b[0m: IProgress not found. Please update jupyter and ipywidgets. See https://ipywidgets.readthedocs.io/en/stable/user_install.html"
          ]
        }
      ],
      "source": [
        "number_of_CNNs = 5 # T\n",
        "CNNs_parameters = []\n",
        "\n",
        "for index in range(number_of_CNNs):\n",
        "    print(\"=\"*20, \"\\n\", \"Start working on CNN\", index + 1,  \"out of \", number_of_CNNs)\n",
        "    print(\"---- Creating Datasets ----\")\n",
        "    CNN_train_data, CNN_test_data = DataLoader_for_Model(index)\n",
        "    print(\"---- Creating model instance ----\")\n",
        "    if index == 0:\n",
        "        CNN_Model = Model_Maker()\n",
        "    print(\"---- Training model instance ----\")\n",
        "    if index == 0:\n",
        "        Model_Trainer(CNN_Model, CNN_train_data, CNN_test_data, index, with_logger=True, with_eval=True, num_epochs=20)\n",
        "    else:\n",
        "        Model_Trainer(CNN_Model, CNN_train_data, CNN_test_data, index, with_logger=True, with_eval=True, num_epochs=5)\n",
        "    print(\"---- Extracting model parameters ----\")\n",
        "    CNN_Params_and_Info = Model_Param_Extractor(CNN_Model)\n",
        "    CNNs_parameters.append(CNN_Params_and_Info)\n",
        "    print(\"---- Saving model state ----\")\n",
        "    MainModel_Saver(CNN_Model, index)\n",
        "    print(\"---- Clearing GPU's cache memory ----\")\n",
        "    torch.cuda.empty_cache()\n",
        "    print(\"Done with CNN\", index, \"\\n\")"
      ]
    },
    {
      "cell_type": "code",
      "execution_count": null,
      "metadata": {
        "id": "XGY5oA2oHiM8"
      },
      "outputs": [],
      "source": [
        "!kill $(ps -e | grep 'tensorboard' | awk '{print $1}')\n",
        "%tensorboard --logdir /content/logger/CNN_2/"
      ]
    },
    {
      "cell_type": "code",
      "execution_count": null,
      "metadata": {
        "id": "vyHvwISx6HD-"
      },
      "outputs": [],
      "source": [
        "!kill $(ps -e | grep 'tensorboard' | awk '{print $1}')\n",
        "%tensorboard --logdir /content/logger/CNN_4/"
      ]
    },
    {
      "cell_type": "code",
      "execution_count": null,
      "metadata": {
        "id": "2nKkaQSlnEqk"
      },
      "outputs": [],
      "source": []
    },
    {
      "cell_type": "markdown",
      "metadata": {
        "id": "tgB7W-LknFQN"
      },
      "source": [
        "## Saving Results"
      ]
    },
    {
      "cell_type": "code",
      "execution_count": null,
      "metadata": {
        "colab": {
          "base_uri": "https://localhost:8080/",
          "height": 17
        },
        "id": "SeEoNq62nCYj",
        "outputId": "62a9fce6-8f8f-46aa-8f52-2639aecd365c"
      },
      "outputs": [
        {
          "data": {
            "application/javascript": "\n    async function download(id, filename, size) {\n      if (!google.colab.kernel.accessAllowed) {\n        return;\n      }\n      const div = document.createElement('div');\n      const label = document.createElement('label');\n      label.textContent = `Downloading \"${filename}\": `;\n      div.appendChild(label);\n      const progress = document.createElement('progress');\n      progress.max = size;\n      div.appendChild(progress);\n      document.body.appendChild(div);\n\n      const buffers = [];\n      let downloaded = 0;\n\n      const channel = await google.colab.kernel.comms.open(id);\n      // Send a message to notify the kernel that we're ready.\n      channel.send({})\n\n      for await (const message of channel.messages) {\n        // Send a message to notify the kernel that we're ready.\n        channel.send({})\n        if (message.buffers) {\n          for (const buffer of message.buffers) {\n            buffers.push(buffer);\n            downloaded += buffer.byteLength;\n            progress.value = downloaded;\n          }\n        }\n      }\n      const blob = new Blob(buffers, {type: 'application/binary'});\n      const a = document.createElement('a');\n      a.href = window.URL.createObjectURL(blob);\n      a.download = filename;\n      div.appendChild(a);\n      a.click();\n      div.remove();\n    }\n  ",
            "text/plain": [
              "<IPython.core.display.Javascript object>"
            ]
          },
          "metadata": {},
          "output_type": "display_data"
        },
        {
          "data": {
            "application/javascript": "download(\"download_adfa50e6-7002-4114-9d53-411249ac5ef7\", \"CNNs_parameters.pt\", 90687)",
            "text/plain": [
              "<IPython.core.display.Javascript object>"
            ]
          },
          "metadata": {},
          "output_type": "display_data"
        },
        {
          "data": {
            "application/javascript": "\n    async function download(id, filename, size) {\n      if (!google.colab.kernel.accessAllowed) {\n        return;\n      }\n      const div = document.createElement('div');\n      const label = document.createElement('label');\n      label.textContent = `Downloading \"${filename}\": `;\n      div.appendChild(label);\n      const progress = document.createElement('progress');\n      progress.max = size;\n      div.appendChild(progress);\n      document.body.appendChild(div);\n\n      const buffers = [];\n      let downloaded = 0;\n\n      const channel = await google.colab.kernel.comms.open(id);\n      // Send a message to notify the kernel that we're ready.\n      channel.send({})\n\n      for await (const message of channel.messages) {\n        // Send a message to notify the kernel that we're ready.\n        channel.send({})\n        if (message.buffers) {\n          for (const buffer of message.buffers) {\n            buffers.push(buffer);\n            downloaded += buffer.byteLength;\n            progress.value = downloaded;\n          }\n        }\n      }\n      const blob = new Blob(buffers, {type: 'application/binary'});\n      const a = document.createElement('a');\n      a.href = window.URL.createObjectURL(blob);\n      a.download = filename;\n      div.appendChild(a);\n      a.click();\n      div.remove();\n    }\n  ",
            "text/plain": [
              "<IPython.core.display.Javascript object>"
            ]
          },
          "metadata": {},
          "output_type": "display_data"
        },
        {
          "data": {
            "application/javascript": "download(\"download_cf0b491a-ecfa-4d8e-9c30-1d621f4c8ea9\", \"CNN_Models.zip\", 37282)",
            "text/plain": [
              "<IPython.core.display.Javascript object>"
            ]
          },
          "metadata": {},
          "output_type": "display_data"
        },
        {
          "data": {
            "application/javascript": "\n    async function download(id, filename, size) {\n      if (!google.colab.kernel.accessAllowed) {\n        return;\n      }\n      const div = document.createElement('div');\n      const label = document.createElement('label');\n      label.textContent = `Downloading \"${filename}\": `;\n      div.appendChild(label);\n      const progress = document.createElement('progress');\n      progress.max = size;\n      div.appendChild(progress);\n      document.body.appendChild(div);\n\n      const buffers = [];\n      let downloaded = 0;\n\n      const channel = await google.colab.kernel.comms.open(id);\n      // Send a message to notify the kernel that we're ready.\n      channel.send({})\n\n      for await (const message of channel.messages) {\n        // Send a message to notify the kernel that we're ready.\n        channel.send({})\n        if (message.buffers) {\n          for (const buffer of message.buffers) {\n            buffers.push(buffer);\n            downloaded += buffer.byteLength;\n            progress.value = downloaded;\n          }\n        }\n      }\n      const blob = new Blob(buffers, {type: 'application/binary'});\n      const a = document.createElement('a');\n      a.href = window.URL.createObjectURL(blob);\n      a.download = filename;\n      div.appendChild(a);\n      a.click();\n      div.remove();\n    }\n  ",
            "text/plain": [
              "<IPython.core.display.Javascript object>"
            ]
          },
          "metadata": {},
          "output_type": "display_data"
        },
        {
          "data": {
            "application/javascript": "download(\"download_e91b7843-5dc6-4477-9609-4a2e2405c1a8\", \"CNN_Logs.zip\", 8096)",
            "text/plain": [
              "<IPython.core.display.Javascript object>"
            ]
          },
          "metadata": {},
          "output_type": "display_data"
        }
      ],
      "source": [
        "import shutil\n",
        "\n",
        "torch.save(CNNs_parameters, 'CNNs_parameters.pt')\n",
        "shutil.make_archive('CNN_Models', 'zip', './CNN_Models/')\n",
        "shutil.make_archive('CNN_Logs', 'zip', './logger/')"
      ]
    },
    {
      "cell_type": "code",
      "execution_count": null,
      "metadata": {
        "id": "mIQQolUaq4is"
      },
      "outputs": [],
      "source": [
        "# from google.colab import files\n",
        "\n",
        "# files.download('CNNs_parameters.pt')\n",
        "# files.download('CNN_Models.zip')\n",
        "# files.download('CNN_Logs.zip')"
      ]
    }
  ],
  "metadata": {
    "accelerator": "GPU",
    "colab": {
      "gpuType": "T4",
      "provenance": []
    },
    "kernelspec": {
      "display_name": "Python 3",
      "name": "python3"
    },
    "language_info": {
      "codemirror_mode": {
        "name": "ipython",
        "version": 3
      },
      "file_extension": ".py",
      "mimetype": "text/x-python",
      "name": "python",
      "nbconvert_exporter": "python",
      "pygments_lexer": "ipython3",
      "version": "3.10.8"
    },
    "widgets": {
      "application/vnd.jupyter.widget-state+json": {
        "1c9d30afd93e42e2be5c4d4213c0b21d": {
          "model_module": "@jupyter-widgets/controls",
          "model_module_version": "1.5.0",
          "model_name": "HTMLModel",
          "state": {
            "_dom_classes": [],
            "_model_module": "@jupyter-widgets/controls",
            "_model_module_version": "1.5.0",
            "_model_name": "HTMLModel",
            "_view_count": null,
            "_view_module": "@jupyter-widgets/controls",
            "_view_module_version": "1.5.0",
            "_view_name": "HTMLView",
            "description": "",
            "description_tooltip": null,
            "layout": "IPY_MODEL_3c64ba16c4b04779b66c6797789d03e0",
            "placeholder": "​",
            "style": "IPY_MODEL_1ddccb91469c49518fe9f84802cf6f88",
            "value": " 100/100 [00:23&lt;00:00,  4.23it/s]"
          }
        },
        "1ddccb91469c49518fe9f84802cf6f88": {
          "model_module": "@jupyter-widgets/controls",
          "model_module_version": "1.5.0",
          "model_name": "DescriptionStyleModel",
          "state": {
            "_model_module": "@jupyter-widgets/controls",
            "_model_module_version": "1.5.0",
            "_model_name": "DescriptionStyleModel",
            "_view_count": null,
            "_view_module": "@jupyter-widgets/base",
            "_view_module_version": "1.2.0",
            "_view_name": "StyleView",
            "description_width": ""
          }
        },
        "25335ed8dd054ea3877dc546dddabdf5": {
          "model_module": "@jupyter-widgets/controls",
          "model_module_version": "1.5.0",
          "model_name": "FloatProgressModel",
          "state": {
            "_dom_classes": [],
            "_model_module": "@jupyter-widgets/controls",
            "_model_module_version": "1.5.0",
            "_model_name": "FloatProgressModel",
            "_view_count": null,
            "_view_module": "@jupyter-widgets/controls",
            "_view_module_version": "1.5.0",
            "_view_name": "ProgressView",
            "bar_style": "success",
            "description": "",
            "description_tooltip": null,
            "layout": "IPY_MODEL_86a835b8a5614c6ba8206c217235b83b",
            "max": 100,
            "min": 0,
            "orientation": "horizontal",
            "style": "IPY_MODEL_82db98c3ff964f0eab8b452df1bd9436",
            "value": 100
          }
        },
        "3c64ba16c4b04779b66c6797789d03e0": {
          "model_module": "@jupyter-widgets/base",
          "model_module_version": "1.2.0",
          "model_name": "LayoutModel",
          "state": {
            "_model_module": "@jupyter-widgets/base",
            "_model_module_version": "1.2.0",
            "_model_name": "LayoutModel",
            "_view_count": null,
            "_view_module": "@jupyter-widgets/base",
            "_view_module_version": "1.2.0",
            "_view_name": "LayoutView",
            "align_content": null,
            "align_items": null,
            "align_self": null,
            "border": null,
            "bottom": null,
            "display": null,
            "flex": null,
            "flex_flow": null,
            "grid_area": null,
            "grid_auto_columns": null,
            "grid_auto_flow": null,
            "grid_auto_rows": null,
            "grid_column": null,
            "grid_gap": null,
            "grid_row": null,
            "grid_template_areas": null,
            "grid_template_columns": null,
            "grid_template_rows": null,
            "height": null,
            "justify_content": null,
            "justify_items": null,
            "left": null,
            "margin": null,
            "max_height": null,
            "max_width": null,
            "min_height": null,
            "min_width": null,
            "object_fit": null,
            "object_position": null,
            "order": null,
            "overflow": null,
            "overflow_x": null,
            "overflow_y": null,
            "padding": null,
            "right": null,
            "top": null,
            "visibility": null,
            "width": null
          }
        },
        "82db98c3ff964f0eab8b452df1bd9436": {
          "model_module": "@jupyter-widgets/controls",
          "model_module_version": "1.5.0",
          "model_name": "ProgressStyleModel",
          "state": {
            "_model_module": "@jupyter-widgets/controls",
            "_model_module_version": "1.5.0",
            "_model_name": "ProgressStyleModel",
            "_view_count": null,
            "_view_module": "@jupyter-widgets/base",
            "_view_module_version": "1.2.0",
            "_view_name": "StyleView",
            "bar_color": null,
            "description_width": ""
          }
        },
        "86a835b8a5614c6ba8206c217235b83b": {
          "model_module": "@jupyter-widgets/base",
          "model_module_version": "1.2.0",
          "model_name": "LayoutModel",
          "state": {
            "_model_module": "@jupyter-widgets/base",
            "_model_module_version": "1.2.0",
            "_model_name": "LayoutModel",
            "_view_count": null,
            "_view_module": "@jupyter-widgets/base",
            "_view_module_version": "1.2.0",
            "_view_name": "LayoutView",
            "align_content": null,
            "align_items": null,
            "align_self": null,
            "border": null,
            "bottom": null,
            "display": null,
            "flex": null,
            "flex_flow": null,
            "grid_area": null,
            "grid_auto_columns": null,
            "grid_auto_flow": null,
            "grid_auto_rows": null,
            "grid_column": null,
            "grid_gap": null,
            "grid_row": null,
            "grid_template_areas": null,
            "grid_template_columns": null,
            "grid_template_rows": null,
            "height": null,
            "justify_content": null,
            "justify_items": null,
            "left": null,
            "margin": null,
            "max_height": null,
            "max_width": null,
            "min_height": null,
            "min_width": null,
            "object_fit": null,
            "object_position": null,
            "order": null,
            "overflow": null,
            "overflow_x": null,
            "overflow_y": null,
            "padding": null,
            "right": null,
            "top": null,
            "visibility": null,
            "width": null
          }
        },
        "949a8d5f42b54bd8b49e9b0059924810": {
          "model_module": "@jupyter-widgets/controls",
          "model_module_version": "1.5.0",
          "model_name": "HBoxModel",
          "state": {
            "_dom_classes": [],
            "_model_module": "@jupyter-widgets/controls",
            "_model_module_version": "1.5.0",
            "_model_name": "HBoxModel",
            "_view_count": null,
            "_view_module": "@jupyter-widgets/controls",
            "_view_module_version": "1.5.0",
            "_view_name": "HBoxView",
            "box_style": "",
            "children": [
              "IPY_MODEL_f7eabf29f1e742088d68a4f6c91a77c6",
              "IPY_MODEL_25335ed8dd054ea3877dc546dddabdf5",
              "IPY_MODEL_1c9d30afd93e42e2be5c4d4213c0b21d"
            ],
            "layout": "IPY_MODEL_c3411d615d2347bd90f1b42bf160bac6"
          }
        },
        "c3411d615d2347bd90f1b42bf160bac6": {
          "model_module": "@jupyter-widgets/base",
          "model_module_version": "1.2.0",
          "model_name": "LayoutModel",
          "state": {
            "_model_module": "@jupyter-widgets/base",
            "_model_module_version": "1.2.0",
            "_model_name": "LayoutModel",
            "_view_count": null,
            "_view_module": "@jupyter-widgets/base",
            "_view_module_version": "1.2.0",
            "_view_name": "LayoutView",
            "align_content": null,
            "align_items": null,
            "align_self": null,
            "border": null,
            "bottom": null,
            "display": null,
            "flex": null,
            "flex_flow": null,
            "grid_area": null,
            "grid_auto_columns": null,
            "grid_auto_flow": null,
            "grid_auto_rows": null,
            "grid_column": null,
            "grid_gap": null,
            "grid_row": null,
            "grid_template_areas": null,
            "grid_template_columns": null,
            "grid_template_rows": null,
            "height": null,
            "justify_content": null,
            "justify_items": null,
            "left": null,
            "margin": null,
            "max_height": null,
            "max_width": null,
            "min_height": null,
            "min_width": null,
            "object_fit": null,
            "object_position": null,
            "order": null,
            "overflow": null,
            "overflow_x": null,
            "overflow_y": null,
            "padding": null,
            "right": null,
            "top": null,
            "visibility": null,
            "width": null
          }
        },
        "e79bf3afffc84f6199990c6e9334fed8": {
          "model_module": "@jupyter-widgets/controls",
          "model_module_version": "1.5.0",
          "model_name": "DescriptionStyleModel",
          "state": {
            "_model_module": "@jupyter-widgets/controls",
            "_model_module_version": "1.5.0",
            "_model_name": "DescriptionStyleModel",
            "_view_count": null,
            "_view_module": "@jupyter-widgets/base",
            "_view_module_version": "1.2.0",
            "_view_name": "StyleView",
            "description_width": ""
          }
        },
        "e7a7b768d7de42fcb1be543e37771521": {
          "model_module": "@jupyter-widgets/base",
          "model_module_version": "1.2.0",
          "model_name": "LayoutModel",
          "state": {
            "_model_module": "@jupyter-widgets/base",
            "_model_module_version": "1.2.0",
            "_model_name": "LayoutModel",
            "_view_count": null,
            "_view_module": "@jupyter-widgets/base",
            "_view_module_version": "1.2.0",
            "_view_name": "LayoutView",
            "align_content": null,
            "align_items": null,
            "align_self": null,
            "border": null,
            "bottom": null,
            "display": null,
            "flex": null,
            "flex_flow": null,
            "grid_area": null,
            "grid_auto_columns": null,
            "grid_auto_flow": null,
            "grid_auto_rows": null,
            "grid_column": null,
            "grid_gap": null,
            "grid_row": null,
            "grid_template_areas": null,
            "grid_template_columns": null,
            "grid_template_rows": null,
            "height": null,
            "justify_content": null,
            "justify_items": null,
            "left": null,
            "margin": null,
            "max_height": null,
            "max_width": null,
            "min_height": null,
            "min_width": null,
            "object_fit": null,
            "object_position": null,
            "order": null,
            "overflow": null,
            "overflow_x": null,
            "overflow_y": null,
            "padding": null,
            "right": null,
            "top": null,
            "visibility": null,
            "width": null
          }
        },
        "f7eabf29f1e742088d68a4f6c91a77c6": {
          "model_module": "@jupyter-widgets/controls",
          "model_module_version": "1.5.0",
          "model_name": "HTMLModel",
          "state": {
            "_dom_classes": [],
            "_model_module": "@jupyter-widgets/controls",
            "_model_module_version": "1.5.0",
            "_model_name": "HTMLModel",
            "_view_count": null,
            "_view_module": "@jupyter-widgets/controls",
            "_view_module_version": "1.5.0",
            "_view_name": "HTMLView",
            "description": "",
            "description_tooltip": null,
            "layout": "IPY_MODEL_e7a7b768d7de42fcb1be543e37771521",
            "placeholder": "​",
            "style": "IPY_MODEL_e79bf3afffc84f6199990c6e9334fed8",
            "value": "100%"
          }
        }
      }
    }
  },
  "nbformat": 4,
  "nbformat_minor": 0
}
