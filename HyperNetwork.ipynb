{
  "cells": [
    {
      "cell_type": "markdown",
      "metadata": {
        "id": "yHY1zCXXaQsU"
      },
      "source": [
        "# Environment Setup"
      ]
    },
    {
      "cell_type": "code",
      "execution_count": null,
      "metadata": {
        "colab": {
          "base_uri": "https://localhost:8080/"
        },
        "id": "PvLPRG7MHkfO",
        "outputId": "c7edd3c3-b530-4c81-8144-717738285999"
      },
      "outputs": [
        {
          "name": "stdout",
          "output_type": "stream",
          "text": [
            "The tensorboard extension is already loaded. To reload it, use:\n",
            "  %reload_ext tensorboard\n"
          ]
        }
      ],
      "source": [
        "## Standard libraries\n",
        "import os\n",
        "import numpy as np\n",
        "\n",
        "## Imports for plotting\n",
        "import matplotlib.pyplot as plt\n",
        "%matplotlib inline\n",
        "import seaborn as sns\n",
        "sns.set()\n",
        "\n",
        "## Progress bar\n",
        "from tqdm.notebook import tqdm\n",
        "\n",
        "## PyTorch\n",
        "import torch\n",
        "import torch.nn as nn\n",
        "import torch.nn.functional as F\n",
        "import torch.utils.data as data\n",
        "import torch.optim as optim\n",
        "from torch.utils.tensorboard import SummaryWriter\n",
        "%load_ext tensorboard\n",
        "\n",
        "import projection\n",
        "device = projection.setup_gpu()"
      ]
    },
    {
      "cell_type": "markdown",
      "metadata": {
        "id": "4gqO6uUXk8Gp"
      },
      "source": [
        "## Data Loading"
      ]
    },
    {
      "cell_type": "code",
      "execution_count": null,
      "metadata": {
        "id": "4dO3j0Bfk_He"
      },
      "outputs": [],
      "source": [
        "problem_instance = torch.load(\"problem.pt\")\n",
        "CNNs_parameters = torch.load('CNNs_parameters.pt')\n",
        "\n",
        "N = problem_instance.N\n",
        "T = problem_instance.T \n",
        "d = problem_instance.d\n",
        "Mu = problem_instance.mu\n",
        "Varsigma = problem_instance.varsigma \n",
        "Sigma = problem_instance.Sigma \n",
        "Lambda = problem_instance.Lambda \n",
        "memory = problem_instance.memory\n",
        "X = problem_instance.X\n",
        "Drift = problem_instance.Drift\n",
        "Diffusion = problem_instance.Diffusion\n",
        "Z = problem_instance.input_output_pairs"
      ]
    },
    {
      "cell_type": "code",
      "execution_count": null,
      "metadata": {},
      "outputs": [],
      "source": []
    },
    {
      "cell_type": "markdown",
      "metadata": {
        "id": "QBhuJzEioidO"
      },
      "source": [
        "### Dataset creation for HyperNetwork"
      ]
    },
    {
      "cell_type": "code",
      "execution_count": null,
      "metadata": {
        "id": "mjSlRf18ppIj"
      },
      "outputs": [],
      "source": [
        "class HN_Dataset(data.Dataset):\n",
        "    def __init__(self, CNNs_parameters):\n",
        "        super().__init__()\n",
        "        self.generate_dataset(CNNs_parameters)\n",
        "\n",
        "    def generate_dataset(self, CNNs_parameters):\n",
        "        self.data = torch.from_numpy(np.array(CNNs_parameters[:-1])).type(torch.FloatTensor)\n",
        "        self.size = len(self.data)\n",
        "        self.label = torch.from_numpy(np.array(CNNs_parameters[1:])).type(torch.FloatTensor)\n",
        "\n",
        "    def __len__(self):\n",
        "        return self.size\n",
        "\n",
        "    def __getitem__(self, index):\n",
        "        data_point = self.data[index]\n",
        "        data_label = self.label[index]\n",
        "        return data_point, data_label"
      ]
    },
    {
      "cell_type": "code",
      "execution_count": null,
      "metadata": {
        "id": "Pj7Kpw5xrcWJ"
      },
      "outputs": [],
      "source": [
        "CNNs_parameters_count = len(CNNs_parameters[0][2])\n",
        "CNNs_weights_and_biases = []\n",
        "for index in range(len(CNNs_parameters)):\n",
        "    CNNs_weights_and_biases.append(CNNs_parameters[index][2])\n",
        "\n",
        "def HN_dataset_generator(test_split = 0.2):\n",
        "    pos = int((len(CNNs_weights_and_biases)*test_split)-1) if test_split < 1 else int(len(CNNs_weights_and_biases)-test_split-1)\n",
        "\n",
        "    train_dataset = HN_Dataset(CNNs_weights_and_biases[:pos])\n",
        "    test_dataset = HN_Dataset(CNNs_weights_and_biases[pos:-1])\n",
        "\n",
        "    return (train_dataset, test_dataset)"
      ]
    },
    {
      "cell_type": "code",
      "execution_count": null,
      "metadata": {
        "id": "O3SOExM8Rp_L"
      },
      "outputs": [],
      "source": [
        "HN_Train, HN_Test = HN_dataset_generator(0.1)"
      ]
    },
    {
      "cell_type": "code",
      "execution_count": null,
      "metadata": {
        "id": "ragjqlHGskZQ"
      },
      "outputs": [],
      "source": [
        " # TESTING\n",
        "# print(CNNs_weights_and_biases[:2])\n",
        "# print(\"Size of dataset:\", len(HN_dataset))\n",
        "# print(len(HN_dataset[0][0]))\n",
        "# print(\"Dataset : \", [HN_dataset[i] for i in range(len(HN_dataset))])\n",
        "# HN_data_loader = data.DataLoader(HN_dataset, batch_size=1, shuffle=True, drop_last=True)\n",
        "# for data_inputs, data_labels in HN_data_loader:\n",
        "#     print(\"Data inputs\", data_inputs.shape, \"\\n\", data_inputs)\n",
        "#     print(\"Data labels\", data_labels.shape, \"\\n\", data_labels)"
      ]
    },
    {
      "cell_type": "markdown",
      "metadata": {
        "id": "9YfVlSwAoiKs"
      },
      "source": [
        "### Model Architecture Definition"
      ]
    },
    {
      "cell_type": "code",
      "execution_count": null,
      "metadata": {
        "id": "vWnVPZ-gnyrf"
      },
      "outputs": [],
      "source": [
        "class Affine_layer(nn.Module):\n",
        "    def __init__(self, input_size: int):\n",
        "        super(Affine_layer, self).__init__()\n",
        "        # initiating the weights and biases\n",
        "        self.weights = nn.Parameter(torch.rand(input_size), requires_grad=True)\n",
        "        self.bias = nn.Parameter(torch.rand(input_size), requires_grad=True)\n",
        "\n",
        "    def forward(self, input_data: torch.tensor):\n",
        "        # simple elementwise multiplication and addition\n",
        "        return ((self.weights * input_data) + self.bias)"
      ]
    },
    {
      "cell_type": "code",
      "execution_count": null,
      "metadata": {
        "id": "VEx8lMJfdi33"
      },
      "outputs": [],
      "source": [
        "class HyperNetwork(nn.Module):\n",
        "\n",
        "    def __init__(self, input_size):\n",
        "        super().__init__()\n",
        "        # Create the network based on the specified hidden sizes\n",
        "        layers = []\n",
        "\n",
        "        layers += [Affine_layer(input_size)] # Affine Layer\n",
        "        layers += [nn.ReLU()]\n",
        "\n",
        "        layers += [Affine_layer(input_size)] # Affine Layer\n",
        "        layers += [nn.ReLU()]\n",
        "\n",
        "        layers += [Affine_layer(input_size)] # Affine Layer\n",
        "        layers += [nn.ReLU()]\n",
        "\n",
        "        self.layers = nn.Sequential(*layers) # nn.Sequential summarizes a list of modules into a single module, applying them in sequence\n",
        "\n",
        "\n",
        "    def forward(self, input_data):\n",
        "        result = self.layers(input_data)\n",
        "        return result"
      ]
    },
    {
      "cell_type": "code",
      "execution_count": null,
      "metadata": {
        "id": "bmGBDk11uj5o"
      },
      "outputs": [],
      "source": [
        "def HN_train_model(model, optimizer, data_loader, loss_module, num_epochs=100):\n",
        "    # Create TensorBoard logger\n",
        "    logging_dir='logger/HyperNetwork'\n",
        "    writer = SummaryWriter(logging_dir)\n",
        "    model_plotted = False\n",
        "\n",
        "    # Set model to train mode\n",
        "    model.train()\n",
        "\n",
        "    # Training loop\n",
        "    for epoch in tqdm(range(num_epochs)):\n",
        "        epoch_loss = 0.0\n",
        "        for data_inputs, data_labels in data_loader:\n",
        "\n",
        "            ## Step 1: Move input data to device (only strictly necessary if we use GPU)\n",
        "            data_inputs = data_inputs.to(device)\n",
        "            data_labels = data_labels.to(device)\n",
        "\n",
        "            # For the very first batch, we visualize the computation graph in TensorBoard\n",
        "            if not model_plotted:\n",
        "                writer.add_graph(model, data_inputs)\n",
        "                model_plotted = True\n",
        "\n",
        "            ## Step 2: Run the model on the input data\n",
        "            preds = model(data_inputs)\n",
        "            preds = preds.squeeze(dim=1) # Output is [Batch size, 1], but we want [Batch size]\n",
        "\n",
        "            ## Step 3: Calculate the loss\n",
        "            loss = loss_module(preds, data_labels.float())\n",
        "\n",
        "            ## Step 4: Perform backpropagation\n",
        "            # Before calculating the gradients, we need to ensure that they are all zero.\n",
        "            # The gradients would not be overwritten, but actually added to the existing ones.\n",
        "            optimizer.zero_grad()\n",
        "            # Perform backpropagation\n",
        "            loss.backward()\n",
        "\n",
        "            ## Step 5: Update the parameters\n",
        "            optimizer.step()\n",
        "\n",
        "            ## Step 6: Take the running average of the loss\n",
        "            epoch_loss += loss.item()\n",
        "\n",
        "        # Add average loss to TensorBoard\n",
        "        epoch_loss /= len(data_loader)\n",
        "        writer.add_scalar('training_loss',\n",
        "                          epoch_loss,\n",
        "                          global_step = epoch + 1)\n",
        "    writer.close()"
      ]
    },
    {
      "cell_type": "code",
      "execution_count": null,
      "metadata": {
        "id": "PcFOpV3aUj2f"
      },
      "outputs": [],
      "source": [
        "def HN_eval_model(model, data_loader, loss_module):\n",
        "    # Create TensorBoard logger\n",
        "    logging_dir='logger/HyperNetwork'\n",
        "    writer = SummaryWriter(logging_dir)\n",
        "    model_plotted = False\n",
        "\n",
        "    # Set model to eval mode\n",
        "    model.eval()\n",
        "\n",
        "    num_preds = 0\n",
        "    losses = []\n",
        "    data_index = 0\n",
        "\n",
        "    with torch.no_grad(): # Deactivate gradients for the following code\n",
        "        for data_inputs, data_labels in data_loader:\n",
        "\n",
        "            data_inputs = data_inputs.to(device)\n",
        "            data_labels = data_labels.to(device)\n",
        "\n",
        "            preds = model(data_inputs)\n",
        "            preds = preds.squeeze(dim=1)\n",
        "\n",
        "            loss = loss_module(preds, data_labels.float())\n",
        "\n",
        "            losses.append(loss)\n",
        "            num_preds += data_labels.shape[0]\n",
        "            data_index += 1\n",
        "            writer.add_scalar('eval_loss', loss, global_step = data_index)\n",
        "\n",
        "    writer.close()\n",
        "    Average_loss = sum(losses) / num_preds\n",
        "    print(\"\\t\\t---- EVAL RESULTS ----\\n\",\"\\t\\tAverage loss : \", Average_loss)"
      ]
    },
    {
      "cell_type": "code",
      "execution_count": null,
      "metadata": {
        "id": "JtJaFRYG-mp1"
      },
      "outputs": [],
      "source": [
        "def HN_predict(model, data):\n",
        "    model.eval() # Set model to eval mode\n",
        "    with torch.no_grad(): # Deactivate gradients for the following code\n",
        "        data = data.to(device)\n",
        "        preds = model(data)\n",
        "    return preds"
      ]
    },
    {
      "cell_type": "markdown",
      "metadata": {
        "id": "GKRNq6lo8kPb"
      },
      "source": [
        "### Model Training"
      ]
    },
    {
      "cell_type": "code",
      "execution_count": null,
      "metadata": {
        "id": "mKgCizXMg7wC"
      },
      "outputs": [],
      "source": [
        "print(\"=\"*20,\"\\n\",\"Start working on Hyper Network\")\n",
        "print(\"---- Creating Datasets ----\")\n",
        "HN_train_data_loader = data.DataLoader(HN_Train, batch_size=1, shuffle=False, drop_last=True)\n",
        "HN_test_data_loader = data.DataLoader(HN_Test, batch_size=1, shuffle=False, drop_last=False)\n",
        "\n",
        "print(\"---- Creating model ----\")\n",
        "HN_model = HyperNetwork(CNNs_parameters_count)\n",
        "HN_model = HN_model.to(device)\n",
        "HN_optimizer = torch.optim.Adam(HN_model.parameters(), lr=0.01)\n",
        "HN_loss_module = nn.MSELoss()\n",
        "\n",
        "print(\"---- Training model ----\")\n",
        "HN_train_model(HN_model, HN_optimizer, HN_train_data_loader, HN_loss_module)\n",
        "\n",
        "print(\"---- Evaluating model ----\")\n",
        "HN_eval_model(HN_model, HN_test_data_loader, HN_loss_module)\n",
        "\n",
        "print(\"---- Saving model state ----\")\n",
        "if not os.path.exists(\"HN_Model/\"):\n",
        "    os.mkdir(\"HN_Model/\")\n",
        "PATH = \"./HN_Model/HyperNetwork.pt\"\n",
        "torch.save(HN_model.state_dict(), PATH)\n",
        "\n",
        "print(\"---- Clearing GPU's cache memory ----\")\n",
        "torch.cuda.empty_cache()\n",
        "\n",
        "print(\"Done with Hyper Network\")"
      ]
    },
    {
      "cell_type": "code",
      "execution_count": null,
      "metadata": {
        "id": "VE2HWly9HhQ-"
      },
      "outputs": [],
      "source": [
        "!kill $(ps -e | grep 'tensorboard' | awk '{print $1}')\n",
        "%tensorboard --logdir /content/logger/HyperNetwork/"
      ]
    },
    {
      "cell_type": "markdown",
      "metadata": {
        "id": "JJm9EE3C78je"
      },
      "source": [
        "### Building the predicted CNN"
      ]
    },
    {
      "cell_type": "code",
      "execution_count": null,
      "metadata": {
        "id": "IpIBEIGv8vQn"
      },
      "outputs": [],
      "source": [
        "last_CNN_params = torch.from_numpy(np.array(CNNs_weights_and_biases[-1])).type(torch.FloatTensor)\n",
        "predicted_params = HN_predict(HN_model, last_CNN_params)\n",
        "\n",
        "layers_parameters = []\n",
        "position = 0\n",
        "for index in range(len(CNNs_parameters[0][1])):\n",
        "    layer_size = CNNs_parameters[0][1][index]\n",
        "    layer_values = predicted_params[position:position+layer_size]\n",
        "    position += layer_size\n",
        "    layer_shape = CNNs_parameters[0][0][index]\n",
        "    layer_params = torch.unflatten(layer_values, 0, layer_shape)\n",
        "    layers_parameters.append(layer_params)"
      ]
    },
    {
      "cell_type": "code",
      "execution_count": null,
      "metadata": {
        "id": "ges6vFJNBs-5"
      },
      "outputs": [],
      "source": [
        "# # TESTING\n",
        "# test_model = torch.load(\"./CNN_Models/CNN0.pt\")\n",
        "# for param_tensor in test_model:\n",
        "#     print(\"*\"*10,test_model[param_tensor].shape)\n",
        "#     print(torch.flatten(test_model[param_tensor]).tolist())\n",
        "# print(\"====\"*20)\n",
        "# input_data = torch.from_numpy(np.array(CNNs_parameters[0][2])).type(torch.FloatTensor)\n",
        "# layers_parameters = []\n",
        "# position = 0\n",
        "# for index in range(len(CNNs_parameters[0][1])):\n",
        "#     layer_size = CNNs_parameters[0][1][index]\n",
        "#     layer_values = input_data[position:position+layer_size]\n",
        "#     position += layer_size\n",
        "#     layer_shape = CNNs_parameters[0][0][index]\n",
        "#     layer_params = torch.unflatten(layer_values, 0, layer_shape)\n",
        "#     layers_parameters.append(layer_params)\n",
        "# for layer in layers_parameters:\n",
        "#     print(len(layer))\n",
        "#     print(layer.tolist())\n",
        "\n",
        "# # Testing\n",
        "# state_dict_temp = Predicted_CNN.state_dict()\n",
        "# for param in state_dict_temp:\n",
        "#     state_dict_temp[param] = torch.zeros(state_dict_temp[param].shape)\n",
        "# Predicted_CNN.load_state_dict(state_dict_temp)\n",
        "# for param in Predicted_CNN.parameters():\n",
        "#     print(param)"
      ]
    },
    {
      "cell_type": "code",
      "execution_count": null,
      "metadata": {
        "colab": {
          "base_uri": "https://localhost:8080/"
        },
        "id": "Fixp7H_UGmHE",
        "outputId": "4e7fd7aa-22a5-4cc2-a805-37bbbe4c3fc8"
      },
      "outputs": [
        {
          "data": {
            "text/plain": [
              "<All keys matched successfully>"
            ]
          },
          "execution_count": 153,
          "metadata": {},
          "output_type": "execute_result"
        }
      ],
      "source": [
        "Predicted_CNN = MainNetwork(2*d)\n",
        "state_dict_temp = Predicted_CNN.state_dict()\n",
        "\n",
        "layer_number = 0\n",
        "for param in state_dict_temp:\n",
        "    state_dict_temp[param] = layers_parameters[layer_number]\n",
        "    layer_number += 1\n",
        "\n",
        "Predicted_CNN.load_state_dict(state_dict_temp)"
      ]
    },
    {
      "cell_type": "markdown",
      "metadata": {
        "id": "dcqVkMkNLZX9"
      },
      "source": [
        "TESTING DATA ???"
      ]
    },
    {
      "cell_type": "code",
      "execution_count": null,
      "metadata": {
        "colab": {
          "base_uri": "https://localhost:8080/",
          "height": 179
        },
        "id": "pVg9rhwKIxlV",
        "outputId": "002f1b2e-f7f2-424b-f243-bbac71c24414"
      },
      "outputs": [
        {
          "ename": "TypeError",
          "evalue": "ignored",
          "output_type": "error",
          "traceback": [
            "\u001b[0;31m---------------------------------------------------------------------------\u001b[0m",
            "\u001b[0;31mTypeError\u001b[0m                                 Traceback (most recent call last)",
            "\u001b[0;32m<ipython-input-39-717d9bb4c3df>\u001b[0m in \u001b[0;36m<cell line: 1>\u001b[0;34m()\u001b[0m\n\u001b[0;32m----> 1\u001b[0;31m \u001b[0mCNN_predict\u001b[0m\u001b[0;34m(\u001b[0m\u001b[0mPredicted_CNN\u001b[0m\u001b[0;34m,\u001b[0m\u001b[0;34m)\u001b[0m\u001b[0;34m\u001b[0m\u001b[0;34m\u001b[0m\u001b[0m\n\u001b[0m",
            "\u001b[0;31mTypeError\u001b[0m: CNN_predict() missing 1 required positional argument: 'data'"
          ]
        }
      ],
      "source": [
        "# CNN_predict(Predicted_CNN,)"
      ]
    }
  ],
  "metadata": {
    "colab": {
      "provenance": []
    },
    "kernelspec": {
      "display_name": "Python 3",
      "name": "python3"
    },
    "language_info": {
      "name": "python"
    }
  },
  "nbformat": 4,
  "nbformat_minor": 0
}
