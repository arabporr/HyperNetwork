{
 "cells": [
  {
   "cell_type": "code",
   "execution_count": 66,
   "metadata": {},
   "outputs": [
    {
     "name": "stdout",
     "output_type": "stream",
     "text": [
      "The tensorboard extension is already loaded. To reload it, use:\n",
      "  %reload_ext tensorboard\n"
     ]
    },
    {
     "data": {
      "text/plain": [
       "Reusing TensorBoard on port 6008 (pid 24740), started 0:00:01 ago. (Use '!kill 24740' to kill it.)"
      ]
     },
     "metadata": {},
     "output_type": "display_data"
    },
    {
     "data": {
      "text/html": [
       "\n",
       "      <iframe id=\"tensorboard-frame-97a24e8a25d06a20\" width=\"100%\" height=\"800\" frameborder=\"0\">\n",
       "      </iframe>\n",
       "      <script>\n",
       "        (function() {\n",
       "          const frame = document.getElementById(\"tensorboard-frame-97a24e8a25d06a20\");\n",
       "          const url = new URL(\"http://localhost\");\n",
       "          const port = 6008;\n",
       "          if (port) {\n",
       "            url.port = port;\n",
       "          }\n",
       "          frame.src = url;\n",
       "        })();\n",
       "      </script>\n",
       "    "
      ],
      "text/plain": [
       "<IPython.core.display.HTML object>"
      ]
     },
     "metadata": {},
     "output_type": "display_data"
    }
   ],
   "source": [
    "%load_ext tensorboard\n",
    "%tensorboard --logdir Testing_Results_problem_0/"
   ]
  },
  {
   "cell_type": "code",
   "execution_count": 3,
   "metadata": {},
   "outputs": [
    {
     "name": "stdout",
     "output_type": "stream",
     "text": [
      "Requirement already satisfied: tensorflow in c:\\users\\arabp\\anaconda3\\lib\\site-packages (2.15.0)\n",
      "Requirement already satisfied: tensorflow-intel==2.15.0 in c:\\users\\arabp\\anaconda3\\lib\\site-packages (from tensorflow) (2.15.0)\n",
      "Requirement already satisfied: absl-py>=1.0.0 in c:\\users\\arabp\\anaconda3\\lib\\site-packages (from tensorflow-intel==2.15.0->tensorflow) (2.1.0)\n",
      "Requirement already satisfied: astunparse>=1.6.0 in c:\\users\\arabp\\anaconda3\\lib\\site-packages (from tensorflow-intel==2.15.0->tensorflow) (1.6.3)\n",
      "Requirement already satisfied: flatbuffers>=23.5.26 in c:\\users\\arabp\\anaconda3\\lib\\site-packages (from tensorflow-intel==2.15.0->tensorflow) (23.5.26)\n",
      "Requirement already satisfied: gast!=0.5.0,!=0.5.1,!=0.5.2,>=0.2.1 in c:\\users\\arabp\\anaconda3\\lib\\site-packages (from tensorflow-intel==2.15.0->tensorflow) (0.5.4)\n",
      "Requirement already satisfied: google-pasta>=0.1.1 in c:\\users\\arabp\\anaconda3\\lib\\site-packages (from tensorflow-intel==2.15.0->tensorflow) (0.2.0)\n",
      "Requirement already satisfied: h5py>=2.9.0 in c:\\users\\arabp\\anaconda3\\lib\\site-packages (from tensorflow-intel==2.15.0->tensorflow) (3.9.0)\n",
      "Requirement already satisfied: libclang>=13.0.0 in c:\\users\\arabp\\anaconda3\\lib\\site-packages (from tensorflow-intel==2.15.0->tensorflow) (16.0.6)\n",
      "Requirement already satisfied: ml-dtypes~=0.2.0 in c:\\users\\arabp\\anaconda3\\lib\\site-packages (from tensorflow-intel==2.15.0->tensorflow) (0.2.0)\n",
      "Requirement already satisfied: numpy<2.0.0,>=1.23.5 in c:\\users\\arabp\\anaconda3\\lib\\site-packages (from tensorflow-intel==2.15.0->tensorflow) (1.26.4)\n",
      "Requirement already satisfied: opt-einsum>=2.3.2 in c:\\users\\arabp\\anaconda3\\lib\\site-packages (from tensorflow-intel==2.15.0->tensorflow) (3.3.0)\n",
      "Requirement already satisfied: packaging in c:\\users\\arabp\\anaconda3\\lib\\site-packages (from tensorflow-intel==2.15.0->tensorflow) (23.1)\n",
      "Requirement already satisfied: protobuf!=4.21.0,!=4.21.1,!=4.21.2,!=4.21.3,!=4.21.4,!=4.21.5,<5.0.0dev,>=3.20.3 in c:\\users\\arabp\\anaconda3\\lib\\site-packages (from tensorflow-intel==2.15.0->tensorflow) (4.25.3)\n",
      "Requirement already satisfied: setuptools in c:\\users\\arabp\\anaconda3\\lib\\site-packages (from tensorflow-intel==2.15.0->tensorflow) (68.0.0)\n",
      "Requirement already satisfied: six>=1.12.0 in c:\\users\\arabp\\anaconda3\\lib\\site-packages (from tensorflow-intel==2.15.0->tensorflow) (1.16.0)\n",
      "Requirement already satisfied: termcolor>=1.1.0 in c:\\users\\arabp\\anaconda3\\lib\\site-packages (from tensorflow-intel==2.15.0->tensorflow) (2.4.0)\n",
      "Requirement already satisfied: typing-extensions>=3.6.6 in c:\\users\\arabp\\anaconda3\\lib\\site-packages (from tensorflow-intel==2.15.0->tensorflow) (4.10.0)\n",
      "Requirement already satisfied: wrapt<1.15,>=1.11.0 in c:\\users\\arabp\\anaconda3\\lib\\site-packages (from tensorflow-intel==2.15.0->tensorflow) (1.14.1)\n",
      "Requirement already satisfied: tensorflow-io-gcs-filesystem>=0.23.1 in c:\\users\\arabp\\anaconda3\\lib\\site-packages (from tensorflow-intel==2.15.0->tensorflow) (0.31.0)\n",
      "Requirement already satisfied: grpcio<2.0,>=1.24.3 in c:\\users\\arabp\\anaconda3\\lib\\site-packages (from tensorflow-intel==2.15.0->tensorflow) (1.62.0)\n",
      "Requirement already satisfied: tensorboard<2.16,>=2.15 in c:\\users\\arabp\\anaconda3\\lib\\site-packages (from tensorflow-intel==2.15.0->tensorflow) (2.15.2)\n",
      "Requirement already satisfied: tensorflow-estimator<2.16,>=2.15.0 in c:\\users\\arabp\\anaconda3\\lib\\site-packages (from tensorflow-intel==2.15.0->tensorflow) (2.15.0)\n",
      "Requirement already satisfied: keras<2.16,>=2.15.0 in c:\\users\\arabp\\anaconda3\\lib\\site-packages (from tensorflow-intel==2.15.0->tensorflow) (2.15.0)\n",
      "Requirement already satisfied: wheel<1.0,>=0.23.0 in c:\\users\\arabp\\anaconda3\\lib\\site-packages (from astunparse>=1.6.0->tensorflow-intel==2.15.0->tensorflow) (0.38.4)\n",
      "Requirement already satisfied: google-auth<3,>=1.6.3 in c:\\users\\arabp\\anaconda3\\lib\\site-packages (from tensorboard<2.16,>=2.15->tensorflow-intel==2.15.0->tensorflow) (2.28.1)\n",
      "Requirement already satisfied: google-auth-oauthlib<2,>=0.5 in c:\\users\\arabp\\anaconda3\\lib\\site-packages (from tensorboard<2.16,>=2.15->tensorflow-intel==2.15.0->tensorflow) (1.2.0)\n",
      "Requirement already satisfied: markdown>=2.6.8 in c:\\users\\arabp\\anaconda3\\lib\\site-packages (from tensorboard<2.16,>=2.15->tensorflow-intel==2.15.0->tensorflow) (3.4.1)\n",
      "Requirement already satisfied: requests<3,>=2.21.0 in c:\\users\\arabp\\anaconda3\\lib\\site-packages (from tensorboard<2.16,>=2.15->tensorflow-intel==2.15.0->tensorflow) (2.31.0)\n",
      "Requirement already satisfied: tensorboard-data-server<0.8.0,>=0.7.0 in c:\\users\\arabp\\anaconda3\\lib\\site-packages (from tensorboard<2.16,>=2.15->tensorflow-intel==2.15.0->tensorflow) (0.7.2)\n",
      "Requirement already satisfied: werkzeug>=1.0.1 in c:\\users\\arabp\\anaconda3\\lib\\site-packages (from tensorboard<2.16,>=2.15->tensorflow-intel==2.15.0->tensorflow) (2.2.3)\n",
      "Requirement already satisfied: cachetools<6.0,>=2.0.0 in c:\\users\\arabp\\anaconda3\\lib\\site-packages (from google-auth<3,>=1.6.3->tensorboard<2.16,>=2.15->tensorflow-intel==2.15.0->tensorflow) (5.3.3)\n",
      "Requirement already satisfied: pyasn1-modules>=0.2.1 in c:\\users\\arabp\\anaconda3\\lib\\site-packages (from google-auth<3,>=1.6.3->tensorboard<2.16,>=2.15->tensorflow-intel==2.15.0->tensorflow) (0.2.8)\n",
      "Requirement already satisfied: rsa<5,>=3.1.4 in c:\\users\\arabp\\anaconda3\\lib\\site-packages (from google-auth<3,>=1.6.3->tensorboard<2.16,>=2.15->tensorflow-intel==2.15.0->tensorflow) (4.9)\n",
      "Requirement already satisfied: requests-oauthlib>=0.7.0 in c:\\users\\arabp\\anaconda3\\lib\\site-packages (from google-auth-oauthlib<2,>=0.5->tensorboard<2.16,>=2.15->tensorflow-intel==2.15.0->tensorflow) (1.3.1)\n",
      "Requirement already satisfied: charset-normalizer<4,>=2 in c:\\users\\arabp\\anaconda3\\lib\\site-packages (from requests<3,>=2.21.0->tensorboard<2.16,>=2.15->tensorflow-intel==2.15.0->tensorflow) (2.0.4)\n",
      "Requirement already satisfied: idna<4,>=2.5 in c:\\users\\arabp\\anaconda3\\lib\\site-packages (from requests<3,>=2.21.0->tensorboard<2.16,>=2.15->tensorflow-intel==2.15.0->tensorflow) (3.4)\n",
      "Requirement already satisfied: urllib3<3,>=1.21.1 in c:\\users\\arabp\\anaconda3\\lib\\site-packages (from requests<3,>=2.21.0->tensorboard<2.16,>=2.15->tensorflow-intel==2.15.0->tensorflow) (1.26.16)\n",
      "Requirement already satisfied: certifi>=2017.4.17 in c:\\users\\arabp\\anaconda3\\lib\\site-packages (from requests<3,>=2.21.0->tensorboard<2.16,>=2.15->tensorflow-intel==2.15.0->tensorflow) (2024.2.2)\n",
      "Requirement already satisfied: MarkupSafe>=2.1.1 in c:\\users\\arabp\\anaconda3\\lib\\site-packages (from werkzeug>=1.0.1->tensorboard<2.16,>=2.15->tensorflow-intel==2.15.0->tensorflow) (2.1.1)\n",
      "Requirement already satisfied: pyasn1<0.5.0,>=0.4.6 in c:\\users\\arabp\\anaconda3\\lib\\site-packages (from pyasn1-modules>=0.2.1->google-auth<3,>=1.6.3->tensorboard<2.16,>=2.15->tensorflow-intel==2.15.0->tensorflow) (0.4.8)\n",
      "Requirement already satisfied: oauthlib>=3.0.0 in c:\\users\\arabp\\anaconda3\\lib\\site-packages (from requests-oauthlib>=0.7.0->google-auth-oauthlib<2,>=0.5->tensorboard<2.16,>=2.15->tensorflow-intel==2.15.0->tensorflow) (3.2.2)\n",
      "Collecting tbparse\n",
      "  Obtaining dependency information for tbparse from https://files.pythonhosted.org/packages/42/c4/08dd8ce00d6764c7df33088cb0e1a6947b4107241d47c64999beb079bfb5/tbparse-0.0.8-py3-none-any.whl.metadata\n",
      "  Downloading tbparse-0.0.8-py3-none-any.whl.metadata (8.9 kB)\n",
      "Requirement already satisfied: pandas>=1.3.0 in c:\\users\\arabp\\anaconda3\\lib\\site-packages (from tbparse) (2.2.1)\n",
      "Requirement already satisfied: tensorboard>=2.0.0 in c:\\users\\arabp\\anaconda3\\lib\\site-packages (from tbparse) (2.15.2)\n",
      "Requirement already satisfied: numpy<2,>=1.23.2 in c:\\users\\arabp\\anaconda3\\lib\\site-packages (from pandas>=1.3.0->tbparse) (1.26.4)\n",
      "Requirement already satisfied: python-dateutil>=2.8.2 in c:\\users\\arabp\\anaconda3\\lib\\site-packages (from pandas>=1.3.0->tbparse) (2.8.2)\n",
      "Requirement already satisfied: pytz>=2020.1 in c:\\users\\arabp\\anaconda3\\lib\\site-packages (from pandas>=1.3.0->tbparse) (2023.3.post1)\n",
      "Requirement already satisfied: tzdata>=2022.7 in c:\\users\\arabp\\anaconda3\\lib\\site-packages (from pandas>=1.3.0->tbparse) (2023.3)\n",
      "Requirement already satisfied: absl-py>=0.4 in c:\\users\\arabp\\anaconda3\\lib\\site-packages (from tensorboard>=2.0.0->tbparse) (2.1.0)\n",
      "Requirement already satisfied: grpcio>=1.48.2 in c:\\users\\arabp\\anaconda3\\lib\\site-packages (from tensorboard>=2.0.0->tbparse) (1.62.0)\n",
      "Requirement already satisfied: google-auth<3,>=1.6.3 in c:\\users\\arabp\\anaconda3\\lib\\site-packages (from tensorboard>=2.0.0->tbparse) (2.28.1)\n",
      "Requirement already satisfied: google-auth-oauthlib<2,>=0.5 in c:\\users\\arabp\\anaconda3\\lib\\site-packages (from tensorboard>=2.0.0->tbparse) (1.2.0)\n",
      "Requirement already satisfied: markdown>=2.6.8 in c:\\users\\arabp\\anaconda3\\lib\\site-packages (from tensorboard>=2.0.0->tbparse) (3.4.1)\n",
      "Requirement already satisfied: protobuf!=4.24.0,>=3.19.6 in c:\\users\\arabp\\anaconda3\\lib\\site-packages (from tensorboard>=2.0.0->tbparse) (4.25.3)\n",
      "Requirement already satisfied: requests<3,>=2.21.0 in c:\\users\\arabp\\anaconda3\\lib\\site-packages (from tensorboard>=2.0.0->tbparse) (2.31.0)\n",
      "Requirement already satisfied: setuptools>=41.0.0 in c:\\users\\arabp\\anaconda3\\lib\\site-packages (from tensorboard>=2.0.0->tbparse) (68.0.0)\n",
      "Requirement already satisfied: six>1.9 in c:\\users\\arabp\\anaconda3\\lib\\site-packages (from tensorboard>=2.0.0->tbparse) (1.16.0)\n",
      "Requirement already satisfied: tensorboard-data-server<0.8.0,>=0.7.0 in c:\\users\\arabp\\anaconda3\\lib\\site-packages (from tensorboard>=2.0.0->tbparse) (0.7.2)\n",
      "Requirement already satisfied: werkzeug>=1.0.1 in c:\\users\\arabp\\anaconda3\\lib\\site-packages (from tensorboard>=2.0.0->tbparse) (2.2.3)\n",
      "Requirement already satisfied: cachetools<6.0,>=2.0.0 in c:\\users\\arabp\\anaconda3\\lib\\site-packages (from google-auth<3,>=1.6.3->tensorboard>=2.0.0->tbparse) (5.3.3)\n",
      "Requirement already satisfied: pyasn1-modules>=0.2.1 in c:\\users\\arabp\\anaconda3\\lib\\site-packages (from google-auth<3,>=1.6.3->tensorboard>=2.0.0->tbparse) (0.2.8)\n",
      "Requirement already satisfied: rsa<5,>=3.1.4 in c:\\users\\arabp\\anaconda3\\lib\\site-packages (from google-auth<3,>=1.6.3->tensorboard>=2.0.0->tbparse) (4.9)\n",
      "Requirement already satisfied: requests-oauthlib>=0.7.0 in c:\\users\\arabp\\anaconda3\\lib\\site-packages (from google-auth-oauthlib<2,>=0.5->tensorboard>=2.0.0->tbparse) (1.3.1)\n",
      "Requirement already satisfied: charset-normalizer<4,>=2 in c:\\users\\arabp\\anaconda3\\lib\\site-packages (from requests<3,>=2.21.0->tensorboard>=2.0.0->tbparse) (2.0.4)\n",
      "Requirement already satisfied: idna<4,>=2.5 in c:\\users\\arabp\\anaconda3\\lib\\site-packages (from requests<3,>=2.21.0->tensorboard>=2.0.0->tbparse) (3.4)\n",
      "Requirement already satisfied: urllib3<3,>=1.21.1 in c:\\users\\arabp\\anaconda3\\lib\\site-packages (from requests<3,>=2.21.0->tensorboard>=2.0.0->tbparse) (1.26.16)\n",
      "Requirement already satisfied: certifi>=2017.4.17 in c:\\users\\arabp\\anaconda3\\lib\\site-packages (from requests<3,>=2.21.0->tensorboard>=2.0.0->tbparse) (2024.2.2)\n",
      "Requirement already satisfied: MarkupSafe>=2.1.1 in c:\\users\\arabp\\anaconda3\\lib\\site-packages (from werkzeug>=1.0.1->tensorboard>=2.0.0->tbparse) (2.1.1)\n",
      "Requirement already satisfied: pyasn1<0.5.0,>=0.4.6 in c:\\users\\arabp\\anaconda3\\lib\\site-packages (from pyasn1-modules>=0.2.1->google-auth<3,>=1.6.3->tensorboard>=2.0.0->tbparse) (0.4.8)\n",
      "Requirement already satisfied: oauthlib>=3.0.0 in c:\\users\\arabp\\anaconda3\\lib\\site-packages (from requests-oauthlib>=0.7.0->google-auth-oauthlib<2,>=0.5->tensorboard>=2.0.0->tbparse) (3.2.2)\n",
      "Downloading tbparse-0.0.8-py3-none-any.whl (17 kB)\n",
      "Installing collected packages: tbparse\n",
      "Successfully installed tbparse-0.0.8\n"
     ]
    }
   ],
   "source": [
    "# !pip install tensorflow\n",
    "# !pip install -U tbparse"
   ]
  },
  {
   "cell_type": "code",
   "execution_count": 4,
   "metadata": {},
   "outputs": [
    {
     "name": "stderr",
     "output_type": "stream",
     "text": [
      "c:\\Users\\arabp\\anaconda3\\Lib\\site-packages\\pandas\\core\\arrays\\masked.py:60: UserWarning: Pandas requires version '1.3.6' or newer of 'bottleneck' (version '1.3.5' currently installed).\n",
      "  from pandas.core import (\n"
     ]
    },
    {
     "name": "stdout",
     "output_type": "stream",
     "text": [
      "WARNING:tensorflow:From c:\\Users\\arabp\\anaconda3\\Lib\\site-packages\\keras\\src\\losses.py:2976: The name tf.losses.sparse_softmax_cross_entropy is deprecated. Please use tf.compat.v1.losses.sparse_softmax_cross_entropy instead.\n",
      "\n",
      "     step                                                tag         value\n",
      "0     160  Difference in predictions between Predicted an...  2.174293e-13\n",
      "1     161  Difference in predictions between Predicted an...  2.773176e-13\n",
      "2     162  Difference in predictions between Predicted an...  4.092656e-13\n",
      "3     163  Difference in predictions between Predicted an...  4.361979e-13\n",
      "4     164  Difference in predictions between Predicted an...  5.244183e-13\n",
      "..    ...                                                ...           ...\n",
      "662   196                                          Loss Plot  8.614458e-03\n",
      "663   196                                          Loss Plot  6.498047e+00\n",
      "664   197                                          Loss Plot  6.817100e+00\n",
      "665   197                                          Loss Plot  1.020096e-02\n",
      "666   197                                          Loss Plot  6.816903e+00\n",
      "\n",
      "[667 rows x 3 columns]\n"
     ]
    }
   ],
   "source": [
    "from tbparse import SummaryReader\n",
    "\n",
    "log_dir = \"Testing_Results_problem_0/\"\n",
    "reader = SummaryReader(log_dir)\n",
    "df = reader.scalars\n",
    "print(df)"
   ]
  },
  {
   "cell_type": "markdown",
   "metadata": {},
   "source": []
  },
  {
   "cell_type": "code",
   "execution_count": 29,
   "metadata": {},
   "outputs": [
    {
     "data": {
      "text/html": [
       "<div>\n",
       "<style scoped>\n",
       "    .dataframe tbody tr th:only-of-type {\n",
       "        vertical-align: middle;\n",
       "    }\n",
       "\n",
       "    .dataframe tbody tr th {\n",
       "        vertical-align: top;\n",
       "    }\n",
       "\n",
       "    .dataframe thead th {\n",
       "        text-align: right;\n",
       "    }\n",
       "</style>\n",
       "<table border=\"1\" class=\"dataframe\">\n",
       "  <thead>\n",
       "    <tr style=\"text-align: right;\">\n",
       "      <th></th>\n",
       "      <th>step</th>\n",
       "      <th>tag</th>\n",
       "      <th>value</th>\n",
       "    </tr>\n",
       "  </thead>\n",
       "  <tbody>\n",
       "    <tr>\n",
       "      <th>662</th>\n",
       "      <td>196</td>\n",
       "      <td>Loss Plot</td>\n",
       "      <td>0.008614</td>\n",
       "    </tr>\n",
       "    <tr>\n",
       "      <th>663</th>\n",
       "      <td>196</td>\n",
       "      <td>Loss Plot</td>\n",
       "      <td>6.498047</td>\n",
       "    </tr>\n",
       "    <tr>\n",
       "      <th>664</th>\n",
       "      <td>197</td>\n",
       "      <td>Loss Plot</td>\n",
       "      <td>6.817100</td>\n",
       "    </tr>\n",
       "    <tr>\n",
       "      <th>665</th>\n",
       "      <td>197</td>\n",
       "      <td>Loss Plot</td>\n",
       "      <td>0.010201</td>\n",
       "    </tr>\n",
       "    <tr>\n",
       "      <th>666</th>\n",
       "      <td>197</td>\n",
       "      <td>Loss Plot</td>\n",
       "      <td>6.816903</td>\n",
       "    </tr>\n",
       "  </tbody>\n",
       "</table>\n",
       "</div>"
      ],
      "text/plain": [
       "     step        tag     value\n",
       "662   196  Loss Plot  0.008614\n",
       "663   196  Loss Plot  6.498047\n",
       "664   197  Loss Plot  6.817100\n",
       "665   197  Loss Plot  0.010201\n",
       "666   197  Loss Plot  6.816903"
      ]
     },
     "execution_count": 29,
     "metadata": {},
     "output_type": "execute_result"
    }
   ],
   "source": [
    "df.tail()"
   ]
  },
  {
   "cell_type": "code",
   "execution_count": 38,
   "metadata": {},
   "outputs": [],
   "source": [
    "import torch\n",
    "import tensorflow as tf"
   ]
  },
  {
   "cell_type": "code",
   "execution_count": 32,
   "metadata": {},
   "outputs": [],
   "source": [
    "A = torch.tensor(\n",
    "    [\n",
    "        [\n",
    "            -0.4040,\n",
    "            0.0186,\n",
    "            -0.0486,\n",
    "            -0.0660,\n",
    "            0.0609,\n",
    "            -0.0442,\n",
    "            -0.0021,\n",
    "            -0.0094,\n",
    "            -0.0408,\n",
    "            -0.0314,\n",
    "        ],\n",
    "        [\n",
    "            0.0186,\n",
    "            -0.4089,\n",
    "            0.0276,\n",
    "            0.0330,\n",
    "            -0.0010,\n",
    "            0.0086,\n",
    "            0.0443,\n",
    "            -0.0449,\n",
    "            -0.0759,\n",
    "            0.0058,\n",
    "        ],\n",
    "        [\n",
    "            -0.0486,\n",
    "            0.0276,\n",
    "            -0.3523,\n",
    "            -0.0743,\n",
    "            -0.0015,\n",
    "            -0.0479,\n",
    "            0.0278,\n",
    "            -0.0582,\n",
    "            0.0223,\n",
    "            0.0316,\n",
    "        ],\n",
    "        [\n",
    "            -0.0660,\n",
    "            0.0330,\n",
    "            -0.0743,\n",
    "            -0.3776,\n",
    "            0.0590,\n",
    "            -0.0303,\n",
    "            0.0185,\n",
    "            -0.0527,\n",
    "            0.0237,\n",
    "            -0.0110,\n",
    "        ],\n",
    "        [\n",
    "            0.0609,\n",
    "            -0.0010,\n",
    "            -0.0015,\n",
    "            0.0590,\n",
    "            -0.4735,\n",
    "            0.0831,\n",
    "            0.0656,\n",
    "            -0.0008,\n",
    "            0.0161,\n",
    "            0.0860,\n",
    "        ],\n",
    "        [\n",
    "            -0.0442,\n",
    "            0.0086,\n",
    "            -0.0479,\n",
    "            -0.0303,\n",
    "            0.0831,\n",
    "            -0.3675,\n",
    "            0.0324,\n",
    "            0.0482,\n",
    "            -0.0132,\n",
    "            0.0115,\n",
    "        ],\n",
    "        [\n",
    "            -0.0021,\n",
    "            0.0443,\n",
    "            0.0278,\n",
    "            0.0185,\n",
    "            0.0656,\n",
    "            0.0324,\n",
    "            -0.3613,\n",
    "            0.0014,\n",
    "            -0.0362,\n",
    "            0.0599,\n",
    "        ],\n",
    "        [\n",
    "            -0.0094,\n",
    "            -0.0449,\n",
    "            -0.0582,\n",
    "            -0.0527,\n",
    "            -0.0008,\n",
    "            0.0482,\n",
    "            0.0014,\n",
    "            -0.4143,\n",
    "            -0.0356,\n",
    "            -0.0334,\n",
    "        ],\n",
    "        [\n",
    "            -0.0408,\n",
    "            -0.0759,\n",
    "            0.0223,\n",
    "            0.0237,\n",
    "            0.0161,\n",
    "            -0.0132,\n",
    "            -0.0362,\n",
    "            -0.0356,\n",
    "            -0.4326,\n",
    "            -0.0260,\n",
    "        ],\n",
    "        [\n",
    "            -0.0314,\n",
    "            0.0058,\n",
    "            0.0316,\n",
    "            -0.0110,\n",
    "            0.0860,\n",
    "            0.0115,\n",
    "            0.0599,\n",
    "            -0.0334,\n",
    "            -0.0260,\n",
    "            -0.4057,\n",
    "        ],\n",
    "    ]\n",
    ")"
   ]
  },
  {
   "cell_type": "code",
   "execution_count": 33,
   "metadata": {},
   "outputs": [
    {
     "data": {
      "text/plain": [
       "tensor([[-0.4040,  0.0186, -0.0486, -0.0660,  0.0609, -0.0442, -0.0021, -0.0094,\n",
       "         -0.0408, -0.0314],\n",
       "        [ 0.0186, -0.4089,  0.0276,  0.0330, -0.0010,  0.0086,  0.0443, -0.0449,\n",
       "         -0.0759,  0.0058],\n",
       "        [-0.0486,  0.0276, -0.3523, -0.0743, -0.0015, -0.0479,  0.0278, -0.0582,\n",
       "          0.0223,  0.0316],\n",
       "        [-0.0660,  0.0330, -0.0743, -0.3776,  0.0590, -0.0303,  0.0185, -0.0527,\n",
       "          0.0237, -0.0110],\n",
       "        [ 0.0609, -0.0010, -0.0015,  0.0590, -0.4735,  0.0831,  0.0656, -0.0008,\n",
       "          0.0161,  0.0860],\n",
       "        [-0.0442,  0.0086, -0.0479, -0.0303,  0.0831, -0.3675,  0.0324,  0.0482,\n",
       "         -0.0132,  0.0115],\n",
       "        [-0.0021,  0.0443,  0.0278,  0.0185,  0.0656,  0.0324, -0.3613,  0.0014,\n",
       "         -0.0362,  0.0599],\n",
       "        [-0.0094, -0.0449, -0.0582, -0.0527, -0.0008,  0.0482,  0.0014, -0.4143,\n",
       "         -0.0356, -0.0334],\n",
       "        [-0.0408, -0.0759,  0.0223,  0.0237,  0.0161, -0.0132, -0.0362, -0.0356,\n",
       "         -0.4326, -0.0260],\n",
       "        [-0.0314,  0.0058,  0.0316, -0.0110,  0.0860,  0.0115,  0.0599, -0.0334,\n",
       "         -0.0260, -0.4057]])"
      ]
     },
     "execution_count": 33,
     "metadata": {},
     "output_type": "execute_result"
    }
   ],
   "source": []
  },
  {
   "cell_type": "code",
   "execution_count": null,
   "metadata": {},
   "outputs": [],
   "source": []
  },
  {
   "cell_type": "code",
   "execution_count": 35,
   "metadata": {},
   "outputs": [
    {
     "data": {
      "text/plain": [
       "tensor([[   nan, 0.1364,    nan,    nan, 0.2468,    nan,    nan,    nan,    nan,\n",
       "            nan],\n",
       "        [0.1364,    nan, 0.1661, 0.1817,    nan, 0.0927, 0.2105,    nan,    nan,\n",
       "         0.0762],\n",
       "        [   nan, 0.1661,    nan,    nan,    nan,    nan, 0.1667,    nan, 0.1493,\n",
       "         0.1778],\n",
       "        [   nan, 0.1817,    nan,    nan, 0.2429,    nan, 0.1360,    nan, 0.1539,\n",
       "            nan],\n",
       "        [0.2468,    nan,    nan, 0.2429,    nan, 0.2883, 0.2561,    nan, 0.1269,\n",
       "         0.2933],\n",
       "        [   nan, 0.0927,    nan,    nan, 0.2883,    nan, 0.1800, 0.2195,    nan,\n",
       "         0.1072],\n",
       "        [   nan, 0.2105, 0.1667, 0.1360, 0.2561, 0.1800,    nan, 0.0374,    nan,\n",
       "         0.2447],\n",
       "        [   nan,    nan,    nan,    nan,    nan, 0.2195, 0.0374,    nan,    nan,\n",
       "            nan],\n",
       "        [   nan,    nan, 0.1493, 0.1539, 0.1269,    nan,    nan,    nan,    nan,\n",
       "            nan],\n",
       "        [   nan, 0.0762, 0.1778,    nan, 0.2933, 0.1072, 0.2447,    nan,    nan,\n",
       "            nan]])"
      ]
     },
     "execution_count": 35,
     "metadata": {},
     "output_type": "execute_result"
    }
   ],
   "source": [
    "A**(1/2)"
   ]
  },
  {
   "cell_type": "code",
   "execution_count": 36,
   "metadata": {},
   "outputs": [],
   "source": [
    "A_eigen = torch.linalg.eig(A)"
   ]
  },
  {
   "cell_type": "code",
   "execution_count": 37,
   "metadata": {},
   "outputs": [
    {
     "data": {
      "text/plain": [
       "torch.return_types.linalg_eig(\n",
       "eigenvalues=tensor([-0.6402+0.j, -0.2109+0.j, -0.2476+0.j, -0.2876+0.j, -0.3155+0.j, -0.5418+0.j,\n",
       "        -0.5055+0.j, -0.3778+0.j, -0.4270+0.j, -0.4438+0.j]),\n",
       "eigenvectors=tensor([[ 0.4421+0.j, -0.0250+0.j, -0.1368+0.j, -0.3029+0.j,  0.5583+0.j, -0.0244+0.j,\n",
       "         -0.0983+0.j, -0.5546+0.j,  0.1484+0.j, -0.2045+0.j],\n",
       "        [-0.0737+0.j,  0.2883+0.j,  0.1568+0.j, -0.0109+0.j,  0.4627+0.j,  0.5616+0.j,\n",
       "         -0.1323+0.j,  0.4642+0.j,  0.3514+0.j, -0.0273+0.j],\n",
       "        [ 0.2127+0.j,  0.0904+0.j,  0.6850+0.j, -0.2994+0.j, -0.2701+0.j, -0.2419+0.j,\n",
       "         -0.4387+0.j,  0.0835+0.j,  0.1059+0.j, -0.2135+0.j],\n",
       "        [ 0.3834+0.j,  0.1489+0.j, -0.0384+0.j,  0.7928+0.j,  0.1461+0.j, -0.2187+0.j,\n",
       "         -0.3414+0.j,  0.0830+0.j, -0.0838+0.j, -0.0350+0.j],\n",
       "        [-0.6241+0.j,  0.4156+0.j, -0.1424+0.j,  0.0853+0.j, -0.0566+0.j, -0.0657+0.j,\n",
       "         -0.4260+0.j, -0.4291+0.j,  0.1740+0.j, -0.0827+0.j],\n",
       "        [ 0.3089+0.j,  0.3339+0.j, -0.4691+0.j, -0.1173+0.j, -0.3927+0.j, -0.1607+0.j,\n",
       "          0.1358+0.j,  0.1980+0.j,  0.5490+0.j, -0.1421+0.j],\n",
       "        [ 0.0329+0.j,  0.5976+0.j,  0.0461+0.j, -0.0682+0.j,  0.0400+0.j,  0.0151+0.j,\n",
       "          0.3324+0.j,  0.0362+0.j, -0.5427+0.j, -0.4763+0.j],\n",
       "        [ 0.1427+0.j, -0.0845+0.j, -0.4528+0.j, -0.2818+0.j, -0.1683+0.j,  0.2968+0.j,\n",
       "         -0.5886+0.j,  0.1909+0.j, -0.4343+0.j, -0.0058+0.j],\n",
       "        [ 0.1279+0.j, -0.1952+0.j,  0.1210+0.j,  0.2883+0.j, -0.4018+0.j,  0.6297+0.j,\n",
       "          0.0667+0.j, -0.3454+0.j,  0.1156+0.j, -0.3908+0.j],\n",
       "        [ 0.2902+0.j,  0.4464+0.j,  0.1542+0.j, -0.0416+0.j, -0.1763+0.j,  0.2505+0.j,\n",
       "          0.0504+0.j, -0.2874+0.j, -0.0899+0.j,  0.7099+0.j]]))"
      ]
     },
     "execution_count": 37,
     "metadata": {},
     "output_type": "execute_result"
    }
   ],
   "source": [
    "A_eigen"
   ]
  },
  {
   "cell_type": "code",
   "execution_count": null,
   "metadata": {},
   "outputs": [],
   "source": []
  },
  {
   "cell_type": "code",
   "execution_count": 44,
   "metadata": {},
   "outputs": [],
   "source": [
    "C2_tf = tf.convert_to_tensor(torch.abs(A))\n",
    "C2_sqrt = torch.from_numpy(tf.linalg.sqrtm(C2_tf).numpy())"
   ]
  },
  {
   "cell_type": "code",
   "execution_count": 45,
   "metadata": {},
   "outputs": [
    {
     "data": {
      "text/plain": [
       "tensor([[ 0.6293,  0.0119,  0.0359,  0.0491,  0.0425,  0.0317, -0.0034,  0.0026,\n",
       "          0.0296,  0.0216],\n",
       "        [ 0.0119,  0.6343,  0.0186,  0.0233, -0.0021,  0.0039,  0.0344,  0.0327,\n",
       "          0.0569,  0.0014],\n",
       "        [ 0.0359,  0.0186,  0.5855,  0.0583, -0.0058,  0.0369,  0.0209,  0.0433,\n",
       "          0.0138,  0.0235],\n",
       "        [ 0.0491,  0.0233,  0.0583,  0.6060,  0.0432,  0.0182,  0.0114,  0.0389,\n",
       "          0.0145,  0.0032],\n",
       "        [ 0.0425, -0.0021, -0.0058,  0.0432,  0.6779,  0.0626,  0.0478, -0.0035,\n",
       "          0.0088,  0.0632],\n",
       "        [ 0.0317,  0.0039,  0.0369,  0.0182,  0.0626,  0.5991,  0.0236,  0.0370,\n",
       "          0.0073,  0.0031],\n",
       "        [-0.0034,  0.0344,  0.0209,  0.0114,  0.0478,  0.0236,  0.5949, -0.0029,\n",
       "          0.0261,  0.0456],\n",
       "        [ 0.0026,  0.0327,  0.0433,  0.0389, -0.0035,  0.0370, -0.0029,  0.6381,\n",
       "          0.0247,  0.0252],\n",
       "        [ 0.0296,  0.0569,  0.0138,  0.0145,  0.0088,  0.0073,  0.0261,  0.0247,\n",
       "          0.6530,  0.0175],\n",
       "        [ 0.0216,  0.0014,  0.0235,  0.0032,  0.0632,  0.0031,  0.0456,  0.0252,\n",
       "          0.0175,  0.6306]])"
      ]
     },
     "execution_count": 45,
     "metadata": {},
     "output_type": "execute_result"
    }
   ],
   "source": [
    "C2_sqrt"
   ]
  },
  {
   "cell_type": "code",
   "execution_count": 58,
   "metadata": {},
   "outputs": [],
   "source": [
    "L = [1, 2, 3, 4, 5]"
   ]
  },
  {
   "cell_type": "code",
   "execution_count": 52,
   "metadata": {},
   "outputs": [],
   "source": [
    "import numpy as np"
   ]
  },
  {
   "cell_type": "code",
   "execution_count": 59,
   "metadata": {},
   "outputs": [],
   "source": [
    "L = np.array(L)"
   ]
  },
  {
   "cell_type": "code",
   "execution_count": 64,
   "metadata": {},
   "outputs": [
    {
     "data": {
      "text/plain": [
       "3.0"
      ]
     },
     "execution_count": 64,
     "metadata": {},
     "output_type": "execute_result"
    }
   ],
   "source": [
    "np.abs(L).mean()"
   ]
  },
  {
   "cell_type": "code",
   "execution_count": null,
   "metadata": {},
   "outputs": [],
   "source": []
  }
 ],
 "metadata": {
  "kernelspec": {
   "display_name": "base",
   "language": "python",
   "name": "python3"
  },
  "language_info": {
   "codemirror_mode": {
    "name": "ipython",
    "version": 3
   },
   "file_extension": ".py",
   "mimetype": "text/x-python",
   "name": "python",
   "nbconvert_exporter": "python",
   "pygments_lexer": "ipython3",
   "version": "3.11.5"
  }
 },
 "nbformat": 4,
 "nbformat_minor": 2
}
